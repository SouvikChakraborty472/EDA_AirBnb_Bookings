{
  "nbformat": 4,
  "nbformat_minor": 0,
  "metadata": {
    "colab": {
      "private_outputs": true,
      "provenance": [],
      "collapsed_sections": [
        "vncDsAP0Gaoa",
        "FJNUwmbgGyua",
        "w6K7xa23Elo4",
        "yQaldy8SH6Dl",
        "PH-0ReGfmX4f",
        "mDgbUHAGgjLW",
        "MSa1f5Uengrz",
        "GF8Ens_Soomf",
        "0wOQAZs5pc--",
        "K5QZ13OEpz2H",
        "lQ7QKXXCp7Bj",
        "448CDAPjqfQr",
        "KSlN3yHqYklG",
        "t6dVpIINYklI",
        "ijmpgYnKYklI",
        "-JiQyfWJYklI",
        "EM7whBJCYoAo",
        "fge-S5ZAYoAp",
        "85gYPyotYoAp",
        "RoGjAbkUYoAp",
        "4Of9eVA-YrdM",
        "iky9q4vBYrdO",
        "F6T5p64dYrdO",
        "y-Ehk30pYrdP",
        "bamQiAODYuh1",
        "QHF8YVU7Yuh3",
        "GwzvFGzlYuh3",
        "qYpmQ266Yuh3",
        "OH-pJp9IphqM",
        "bbFf2-_FphqN",
        "_ouA3fa0phqN",
        "Seke61FWphqN",
        "PIIx-8_IphqN",
        "t27r6nlMphqO",
        "r2jJGEOYphqO",
        "b0JNsNcRphqO",
        "BZR9WyysphqO",
        "jj7wYXLtphqO",
        "eZrbJ2SmphqO",
        "rFu4xreNphqO",
        "YJ55k-q6phqO",
        "gCFgpxoyphqP",
        "OVtJsKN_phqQ",
        "lssrdh5qphqQ",
        "U2RJ9gkRphqQ",
        "1M8mcRywphqQ",
        "tgIPom80phqQ",
        "JMzcOPDDphqR",
        "x-EpHcCOp1ci",
        "X_VqEhTip1ck",
        "8zGJKyg5p1ck",
        "PVzmfK_Ep1ck",
        "n3dbpmDWp1ck",
        "ylSl6qgtp1ck",
        "ZWILFDl5p1ck",
        "M7G43BXep1ck",
        "Ag9LCva-p1cl",
        "E6MkPsBcp1cl",
        "2cELzS2fp1cl",
        "3MPXvC8up1cl",
        "NC_X3p0fY2L0",
        "UV0SzAkaZNRQ",
        "YPEH6qLeZNRQ",
        "q29F0dvdveiT",
        "EXh0U9oCveiU",
        "22aHeOlLveiV",
        "JcMwzZxoAimU",
        "8G2x9gOozGDZ",
        "gCX9965dhzqZ",
        "gIfDvo9L0UH2"
      ],
      "include_colab_link": true
    },
    "kernelspec": {
      "name": "python3",
      "display_name": "Python 3"
    },
    "language_info": {
      "name": "python"
    }
  },
  "cells": [
    {
      "cell_type": "markdown",
      "metadata": {
        "id": "view-in-github",
        "colab_type": "text"
      },
      "source": [
        "<a href=\"https://colab.research.google.com/github/SouvikChakraborty472/EDA_TelecomChurn/blob/main/EDA_of_Telecom_Churn.ipynb\" target=\"_parent\"><img src=\"https://colab.research.google.com/assets/colab-badge.svg\" alt=\"Open In Colab\"/></a>"
      ]
    },
    {
      "cell_type": "markdown",
      "source": [
        "# **Project Name**    - Exploratory Data Analysis of Telecom Churn\n",
        "\n"
      ],
      "metadata": {
        "id": "vncDsAP0Gaoa"
      }
    },
    {
      "cell_type": "markdown",
      "source": [
        "##### **Project Type**    - EDA/Regression/Classification/Unsupervised\n",
        "##### **Contribution**    - Individual/Team\n",
        "##### **Member -** Souvik Chakraborty\n"
      ],
      "metadata": {
        "id": "beRrZCGUAJYm"
      }
    },
    {
      "cell_type": "markdown",
      "source": [
        "# **Project Summary -**"
      ],
      "metadata": {
        "id": "FJNUwmbgGyua"
      }
    },
    {
      "cell_type": "markdown",
      "source": [
        "Telecom companies often struggle with customer churn, which refers to the number of customers who leaves the company over a given period. In this project, we aimed to analyze the churn rate of a telecom company and identify the factors that contribute to customer churn."
      ],
      "metadata": {
        "id": "F6v_1wHtG2nS"
      }
    },
    {
      "cell_type": "markdown",
      "source": [
        "# **GitHub Link -**"
      ],
      "metadata": {
        "id": "w6K7xa23Elo4"
      }
    },
    {
      "cell_type": "markdown",
      "source": [
        "https://github.com/SouvikChakraborty472/EDA_TelecomChurn"
      ],
      "metadata": {
        "id": "h1o69JH3Eqqn"
      }
    },
    {
      "cell_type": "markdown",
      "source": [
        "# **Problem Statement**\n"
      ],
      "metadata": {
        "id": "yQaldy8SH6Dl"
      }
    },
    {
      "cell_type": "markdown",
      "source": [
        "Orange S.A, formerly France Telecom S.A, is a french multinational telecommunication corporation. The Orange Telecom's Churn Dataset, consist of cleaned customer activity data, along with a churn label specifying whether a customer cancelled the subscription. Explore and analyze the data to discover key factors responsible for customer customer churn and come up with ways/recommendations to ensure customer retention."
      ],
      "metadata": {
        "id": "DpeJGUA3kjGy"
      }
    },
    {
      "cell_type": "markdown",
      "source": [
        "#### **Define Your Business Objective?**"
      ],
      "metadata": {
        "id": "PH-0ReGfmX4f"
      }
    },
    {
      "cell_type": "markdown",
      "source": [
        "\n",
        "\n",
        "*   Identifying the key cause of the customer churn.\n",
        "*   Provide steps to retain the valuable customer.\n",
        "\n"
      ],
      "metadata": {
        "id": "PhDvGCAqmjP1"
      }
    },
    {
      "cell_type": "markdown",
      "source": [
        "# **General Guidelines** : -  "
      ],
      "metadata": {
        "id": "mDgbUHAGgjLW"
      }
    },
    {
      "cell_type": "markdown",
      "source": [
        "1.   Well-structured, formatted, and commented code is required.\n",
        "2.   Exception Handling, Production Grade Code & Deployment Ready Code will be a plus. Those students will be awarded some additional credits.\n",
        "     \n",
        "     The additional credits will have advantages over other students during Star Student selection.\n",
        "       \n",
        "             [ Note: - Deployment Ready Code is defined as, the whole .ipynb notebook should be executable in one go\n",
        "                       without a single error logged. ]\n",
        "\n",
        "3.   Each and every logic should have proper comments.\n",
        "4. You may add as many number of charts you want. Make Sure for each and every chart the following format should be answered.\n",
        "        \n",
        "\n",
        "```\n",
        "# Chart visualization code\n",
        "```\n",
        "            \n",
        "\n",
        "*   Why did you pick the specific chart?\n",
        "*   What is/are the insight(s) found from the chart?\n",
        "* Will the gained insights help creating a positive business impact?\n",
        "Are there any insights that lead to negative growth? Justify with specific reason.\n",
        "\n",
        "5. You have to create at least 20 logical & meaningful charts having important insights.\n",
        "\n",
        "\n",
        "[ Hints : - Do the Vizualization in  a structured way while following \"UBM\" Rule.\n",
        "\n",
        "U - Univariate Analysis,\n",
        "\n",
        "B - Bivariate Analysis (Numerical - Categorical, Numerical - Numerical, Categorical - Categorical)\n",
        "\n",
        "M - Multivariate Analysis\n",
        " ]\n",
        "\n",
        "\n",
        "\n"
      ],
      "metadata": {
        "id": "ZrxVaUj-hHfC"
      }
    },
    {
      "cell_type": "markdown",
      "source": [
        "# ***Let's Begin !***"
      ],
      "metadata": {
        "id": "O_i_v8NEhb9l"
      }
    },
    {
      "cell_type": "markdown",
      "source": [
        "## ***1. Know Your Data***"
      ],
      "metadata": {
        "id": "HhfV-JJviCcP"
      }
    },
    {
      "cell_type": "markdown",
      "source": [
        "### Import Libraries"
      ],
      "metadata": {
        "id": "Y3lxredqlCYt"
      }
    },
    {
      "cell_type": "code",
      "source": [
        "# Import Libraries\n",
        "import numpy as np\n",
        "import pandas as pd\n",
        "import seaborn as sns\n",
        "import matplotlib.pyplot as plt\n",
        "%matplotlib inline\n",
        "import ast"
      ],
      "metadata": {
        "id": "M8Vqi-pPk-HR"
      },
      "execution_count": null,
      "outputs": []
    },
    {
      "cell_type": "markdown",
      "source": [
        "### Dataset Loading"
      ],
      "metadata": {
        "id": "3RnN4peoiCZX"
      }
    },
    {
      "cell_type": "code",
      "source": [
        "# Mount Drive\n",
        "from google.colab import drive\n",
        "drive.mount('/content/drive')"
      ],
      "metadata": {
        "id": "4CkvbW_SlZ_R"
      },
      "execution_count": null,
      "outputs": []
    },
    {
      "cell_type": "code",
      "source": [
        "# Load Dataset\n",
        "telecom_data = pd.read_csv('/content/drive/MyDrive/TelecomChurn.csv')\n",
        "telecom_data"
      ],
      "metadata": {
        "id": "UZ6tK5Ulujx4"
      },
      "execution_count": null,
      "outputs": []
    },
    {
      "cell_type": "markdown",
      "source": [
        "### Dataset First View"
      ],
      "metadata": {
        "id": "x71ZqKXriCWQ"
      }
    },
    {
      "cell_type": "code",
      "source": [
        "# Dataset First Look\n",
        "telecom_data.head()"
      ],
      "metadata": {
        "id": "LWNFOSvLl09H"
      },
      "execution_count": null,
      "outputs": []
    },
    {
      "cell_type": "markdown",
      "source": [
        "### Dataset Rows & Columns count"
      ],
      "metadata": {
        "id": "7hBIi_osiCS2"
      }
    },
    {
      "cell_type": "code",
      "source": [
        "# Dataset Rows & Columns count\n",
        "num_rows, num_columns = telecom_data.shape\n",
        "\n",
        "print(\"Number of rows:\", num_rows)\n",
        "print(\"Number of columns:\", num_columns)"
      ],
      "metadata": {
        "id": "Kllu7SJgmLij"
      },
      "execution_count": null,
      "outputs": []
    },
    {
      "cell_type": "markdown",
      "source": [
        "### Dataset Information"
      ],
      "metadata": {
        "id": "JlHwYmJAmNHm"
      }
    },
    {
      "cell_type": "code",
      "source": [
        "# Dataset Info\n",
        "telecom_data.info()"
      ],
      "metadata": {
        "id": "e9hRXRi6meOf"
      },
      "execution_count": null,
      "outputs": []
    },
    {
      "cell_type": "markdown",
      "source": [
        "#### Duplicate Values"
      ],
      "metadata": {
        "id": "35m5QtbWiB9F"
      }
    },
    {
      "cell_type": "code",
      "source": [
        "# Dataset Duplicate Value Count\n",
        "num_duplicates = telecom_data.duplicated().sum()\n",
        "print(\"Number of duplicates:\", num_duplicates)"
      ],
      "metadata": {
        "id": "1sLdpKYkmox0"
      },
      "execution_count": null,
      "outputs": []
    },
    {
      "cell_type": "markdown",
      "source": [
        "#### Missing Values/Null Values"
      ],
      "metadata": {
        "id": "PoPl-ycgm1ru"
      }
    },
    {
      "cell_type": "code",
      "source": [
        "# Missing Values/Null Values Count\n",
        "telecom_data.isnull().sum()"
      ],
      "metadata": {
        "id": "GgHWkxvamxVg"
      },
      "execution_count": null,
      "outputs": []
    },
    {
      "cell_type": "code",
      "source": [
        "# Visualizing the missing values\n",
        "sns.heatmap(telecom_data.isnull())"
      ],
      "metadata": {
        "id": "3q5wnI3om9sJ"
      },
      "execution_count": null,
      "outputs": []
    },
    {
      "cell_type": "markdown",
      "source": [
        "### What did you know about your dataset?"
      ],
      "metadata": {
        "id": "H0kj-8xxnORC"
      }
    },
    {
      "cell_type": "markdown",
      "source": [
        "The above given dataset is related to customer churn in telecommunication industry. In this data there is 3333 rows and 20 coulmns. There are no null or duplicate values present in this dataset. The data shows customer activity during morning, evening and night, different types of subscriptions, area from where the customer belong, and a column named as churn. The churn column shows whether the customer canceled the subscription or not."
      ],
      "metadata": {
        "id": "gfoNAAC-nUe_"
      }
    },
    {
      "cell_type": "markdown",
      "source": [
        "## ***2. Understanding Your Variables***"
      ],
      "metadata": {
        "id": "nA9Y7ga8ng1Z"
      }
    },
    {
      "cell_type": "code",
      "source": [
        "# Dataset Columns\n",
        "telecom_data.columns"
      ],
      "metadata": {
        "id": "j7xfkqrt5Ag5"
      },
      "execution_count": null,
      "outputs": []
    },
    {
      "cell_type": "code",
      "source": [
        "# Dataset Describe\n",
        "telecom_data.describe()"
      ],
      "metadata": {
        "id": "DnOaZdaE5Q5t"
      },
      "execution_count": null,
      "outputs": []
    },
    {
      "cell_type": "markdown",
      "source": [
        "### Variables Description"
      ],
      "metadata": {
        "id": "PBTbrJXOngz2"
      }
    },
    {
      "cell_type": "markdown",
      "source": [
        "* **State                :**categorica for the 50 states\n",
        "\n",
        "* **Account Length       :**how long account has been active\n",
        "\n",
        "* **Area Code            :**Code Number of Area having some States included in each area code\n",
        "\n",
        "* **lntl Plan            :**Internat ional plan activated ( yes, no )\n",
        "\n",
        "* **VMail Plan           :**  ice Mail plan activated ( yes ,no )\n",
        "\n",
        "* **VMail Message        :**No.of voice mail messages\n",
        "\n",
        "* **Day Mins             :**Total day minutes used\n",
        "\n",
        "* **Day calls**         :Total day calls made\n",
        "\n",
        "* **Day Charge**         :Total day charge\n",
        "\n",
        "* **Eve Mins**          :Total evening minutes\n",
        "\n",
        "* **Eve Calls**          :Total evening calls\n",
        "\n",
        "* **Eve Charge**         :Total evening charge\n",
        "\n",
        "* **Night Mins**         :Total night minutes\n",
        "\n",
        "* **Night Calls**        :Total night calls\n",
        "\n",
        "* **Night Charge**      :Total night charge\n",
        "\n",
        "* **Intl Mins**         :Total International minutes used\n",
        "\n",
        "* **Intl Calls**         :Total International calls made\n",
        "\n",
        "* **Intl Charge**        :Total International charge\n",
        "\n",
        "* **CustServ calls**    :Number of customer service caUs made\n",
        "\n",
        "* **Churn**             :Customer churn (Target Variable True=1, False=0)Answer Here"
      ],
      "metadata": {
        "id": "aJV4KIxSnxay"
      }
    },
    {
      "cell_type": "markdown",
      "source": [
        "### Check Unique Values for each variable."
      ],
      "metadata": {
        "id": "u3PMJOP6ngxN"
      }
    },
    {
      "cell_type": "code",
      "source": [
        "# Check Unique Values for each variable.\n",
        "for i in telecom_data.columns:\n",
        "  print(\"No. of unique values in \",i,\"is\",telecom_data[i].nunique())"
      ],
      "metadata": {
        "id": "zms12Yq5n-jE"
      },
      "execution_count": null,
      "outputs": []
    },
    {
      "cell_type": "markdown",
      "source": [
        "## 3. ***Data Wrangling***"
      ],
      "metadata": {
        "id": "dauF4eBmngu3"
      }
    },
    {
      "cell_type": "markdown",
      "source": [
        "### Data Wrangling Code"
      ],
      "metadata": {
        "id": "bKJF3rekwFvQ"
      }
    },
    {
      "cell_type": "code",
      "source": [
        "# Write your code to make your dataset analysis ready.\n",
        "print(\"No. of Customers Churning: \", telecom_data[telecom_data['Churn']==True].Churn.count())\n",
        "\n",
        "# Variable assigning to churned data\n",
        "churn_data = telecom_data[telecom_data['Churn'] == True]\n",
        "\n",
        "# Total No. of Unique Area code\n",
        "print(\"No. of Unique Area code: \", telecom_data['Area code'].nunique())\n",
        "\n",
        "# Total No. of international plan activated\n",
        "print(\"No. of customer with international plan: \", telecom_data[telecom_data['International plan']=='Yes']['International plan'].count())\n",
        "\n",
        "# Total No. of voice mail plan activated\n",
        "print(\"No. of customer with voice mail plan: \", telecom_data[telecom_data['Voice mail plan']=='Yes']['Voice mail plan'].count())\n",
        "\n",
        "churn_data"
      ],
      "metadata": {
        "id": "wk-9a2fpoLcV"
      },
      "execution_count": null,
      "outputs": []
    },
    {
      "cell_type": "code",
      "source": [
        "# Customer churning Percentage\n",
        "print(\"Total no. customer: \", telecom_data.Churn.count())\n",
        "percent_churn = churn_data.Churn.count()/telecom_data.Churn.count()*100\n",
        "print(f\"Percentage of customer churning: , {round(percent_churn, 2)}%\")"
      ],
      "metadata": {
        "id": "xxJ8f1xVrTkY"
      },
      "execution_count": null,
      "outputs": []
    },
    {
      "cell_type": "code",
      "source": [
        "# Customer churn per area\n",
        "state_cust_churn = churn_data.groupby(['State'])['Churn'].value_counts().reset_index(name='Churn_customer')\n",
        "print(state_cust_churn.sum())\n",
        "state_cust_churn"
      ],
      "metadata": {
        "id": "ZvLdjGKMuuCN"
      },
      "execution_count": null,
      "outputs": []
    },
    {
      "cell_type": "code",
      "source": [
        "# Account length wise churn data\n",
        "acc_len_churn = churn_data.groupby(['Account length'])['Churn'].value_counts().reset_index(name='values')\n",
        "print(acc_len_churn.sum())\n",
        "acc_len_churn"
      ],
      "metadata": {
        "id": "AOnCPr5fDGDE"
      },
      "execution_count": null,
      "outputs": []
    },
    {
      "cell_type": "code",
      "source": [
        "# Churn percentage per Area code\n",
        "Area_code_churn_percent = (telecom_data.groupby(['Area code'])['Churn'].mean()*100).reset_index()\n",
        "Area_code_churn_percent"
      ],
      "metadata": {
        "id": "MXThgWTdC3YU"
      },
      "execution_count": null,
      "outputs": []
    },
    {
      "cell_type": "code",
      "source": [
        "# No. of churn per Area code\n",
        "Area_code_churn_count = churn_data.groupby(['Area code'])['Churn'].value_counts().reset_index(name='Counts')\n",
        "Area_code_churn_count"
      ],
      "metadata": {
        "id": "YQmnb5yVP8CF"
      },
      "execution_count": null,
      "outputs": []
    },
    {
      "cell_type": "code",
      "source": [
        "# Poor contectivity by intersection of state by area code\n",
        "Area_state_churn = churn_data.groupby(['Area code'])['State'].unique().reset_index(name='Unique state')\n",
        "Area_state_churn"
      ],
      "metadata": {
        "id": "rDlJzFLhBITU"
      },
      "execution_count": null,
      "outputs": []
    },
    {
      "cell_type": "code",
      "source": [
        "# Assigning the list of state of each area\n",
        "Area_408_state_churn = Area_state_churn.loc[0, 'Unique state']\n",
        "Area_415_state_churn = Area_state_churn.loc[1, 'Unique state']\n",
        "Area_510_state_churn = Area_state_churn.loc[2, 'Unique state']\n",
        "\n",
        "inter_1 = set(Area_408_state_churn).intersection(set(Area_415_state_churn))\n",
        "poor_connectivity_states = set(inter_1).intersection(set(Area_510_state_churn))\n",
        "print(len(poor_connectivity_states))"
      ],
      "metadata": {
        "id": "1yfFYpUICIWv"
      },
      "execution_count": null,
      "outputs": []
    },
    {
      "cell_type": "code",
      "source": [
        "# Percentage of Churned customers with & without international plan\n",
        "inter_plan_churn = (telecom_data.groupby(['International plan'])['Churn'].mean()*100).reset_index(name = 'Churn %')\n",
        "print(inter_plan_churn)\n",
        "\n",
        "# Churn customer with International plan\n",
        "Churn_inter_yes = churn_data[churn_data['International plan'] == 'Yes']\n",
        "print(Churn_inter_yes.Churn.count())\n",
        "\n",
        "# Churn customer without international plan\n",
        "Churn_inter_no = churn_data[churn_data['International plan'] == 'No']\n",
        "print(Churn_inter_no.Churn.count())"
      ],
      "metadata": {
        "id": "0Ha83l_BC-Az"
      },
      "execution_count": null,
      "outputs": []
    },
    {
      "cell_type": "code",
      "source": [
        "# Percentage of Churned customer with and without vmail plan\n",
        "vmail_plan_churn = (telecom_data.groupby(['Voice mail plan'])['Churn'].mean()*100).reset_index(name = 'Churn %')\n",
        "print(vmail_plan_churn)\n",
        "\n",
        "# Churn customer with vmail plan\n",
        "Churn_vmail_yes = churn_data[churn_data['Voice mail plan'] == 'Yes']\n",
        "print(Churn_vmail_yes.Churn.count())\n",
        "\n",
        "# Churn customer without vmail plan\n",
        "Churn_vmail_no = churn_data[churn_data['Voice mail plan'] == 'No']\n",
        "print(Churn_vmail_no.Churn.count())"
      ],
      "metadata": {
        "id": "9yZ3EOrBE2aS"
      },
      "execution_count": null,
      "outputs": []
    },
    {
      "cell_type": "code",
      "source": [
        "# Combining International & Voice mail plan\n",
        "\n",
        "# Churned customer having both plans\n",
        "Churn_both_plan = churn_data[(churn_data['International plan'] == 'Yes') & (churn_data['Voice mail plan'] == 'Yes')]\n",
        "print(Churn_both_plan.Churn.count())\n",
        "\n",
        "# Churned customer without having both plans\n",
        "Churn_no_both_plan = churn_data[(churn_data['International plan'] == 'No') & (churn_data['Voice mail plan'] == 'No')]\n",
        "print(Churn_no_both_plan.Churn.count())\n",
        "\n",
        "# Churned customer having International plan but no vmail plan\n",
        "Churn_inter_no_vmail = churn_data[(churn_data['International plan'] == 'Yes') & (churn_data['Voice mail plan'] == 'No')]\n",
        "print(Churn_inter_no_vmail.Churn.count())\n",
        "\n",
        "# Churned customer having vmail plan but no International plan\n",
        "Churn_vmail_no_inter = churn_data[(churn_data['International plan'] == 'No') & (churn_data['Voice mail plan'] == 'Yes')]\n",
        "print(Churn_vmail_no_inter.Churn.count())"
      ],
      "metadata": {
        "id": "5GVITD3iFhzL"
      },
      "execution_count": null,
      "outputs": []
    },
    {
      "cell_type": "code",
      "source": [
        "# States with Poor Connectivity\n",
        "\n",
        "# Sates sorted with respect to international and vmail plan\n",
        "state_inter_vmail = Churn_both_plan['State'].unique()\n",
        "state_inter_vmail_no = Churn_no_both_plan['State'].unique()\n",
        "state_vmail_no_inter = Churn_inter_no_vmail['State'].unique()\n",
        "state_inter_no_vmail = Churn_vmail_no_inter['State'].unique()\n",
        "\n",
        "# Intersection of 4 types of plan\n",
        "inter_vmail = set(state_inter_vmail).intersection(set(state_inter_vmail_no))\n",
        "vmail_no_inter = set(state_vmail_no_inter).intersection(set(state_inter_no_vmail))\n",
        "Intersection = set(inter_vmail).intersection(set(vmail_no_inter))\n",
        "print(list(Intersection))\n"
      ],
      "metadata": {
        "id": "BQq36MMDGe-0"
      },
      "execution_count": null,
      "outputs": []
    },
    {
      "cell_type": "code",
      "source": [
        "# Percentage of People with number of Voice mail messages churning/not-churning to other networks\n",
        "vmail_mssg_churn = telecom_data.groupby(['Churn'])['Number vmail messages'].mean().reset_index(name='perc_vmail_mssg')\n",
        "vmail_mssg_churn"
      ],
      "metadata": {
        "id": "WXT_ZVsUKThJ"
      },
      "execution_count": null,
      "outputs": []
    },
    {
      "cell_type": "code",
      "source": [
        "# Day data\n",
        "telecom_data.groupby(['Churn'])['Total day minutes'].mean().reset_index(name='perc_day_mins')"
      ],
      "metadata": {
        "id": "mRQ3VQ7_KY93"
      },
      "execution_count": null,
      "outputs": []
    },
    {
      "cell_type": "code",
      "source": [
        "telecom_data.groupby(['Churn'])['Total day calls'].mean().reset_index(name='perc_day_calls')"
      ],
      "metadata": {
        "id": "n7O3vo3HKiYh"
      },
      "execution_count": null,
      "outputs": []
    },
    {
      "cell_type": "code",
      "source": [
        "telecom_data.groupby(['Churn'])['Total day charge'].mean().reset_index(name='perc_day_charge')"
      ],
      "metadata": {
        "id": "BZGr0MSCKu8n"
      },
      "execution_count": null,
      "outputs": []
    },
    {
      "cell_type": "code",
      "source": [
        "# Evening Data\n",
        "telecom_data.groupby(['Churn'])['Total eve minutes'].mean().reset_index(name='perc_eve_mins')"
      ],
      "metadata": {
        "id": "Cq-wch49K4Eh"
      },
      "execution_count": null,
      "outputs": []
    },
    {
      "cell_type": "code",
      "source": [
        "telecom_data.groupby(['Churn'])['Total eve calls'].mean().reset_index(name='perc_eve_calls')"
      ],
      "metadata": {
        "id": "9ATFREGlLHfj"
      },
      "execution_count": null,
      "outputs": []
    },
    {
      "cell_type": "code",
      "source": [
        "telecom_data.groupby(['Churn'])['Total eve charge'].mean().reset_index(name='perc_eve_charge')"
      ],
      "metadata": {
        "id": "1hRzYkpcLOL5"
      },
      "execution_count": null,
      "outputs": []
    },
    {
      "cell_type": "code",
      "source": [
        "# Night Data\n",
        "telecom_data.groupby(['Churn'])['Total night minutes'].mean().reset_index(name='perc_night_mins')"
      ],
      "metadata": {
        "id": "5BJ902TrLUfj"
      },
      "execution_count": null,
      "outputs": []
    },
    {
      "cell_type": "code",
      "source": [
        "telecom_data.groupby(['Churn'])['Total night calls'].mean().reset_index(name='perc_night_calls')"
      ],
      "metadata": {
        "id": "gSs3QhA3Lb7W"
      },
      "execution_count": null,
      "outputs": []
    },
    {
      "cell_type": "code",
      "source": [
        "telecom_data.groupby(['Churn'])['Total night charge'].mean().reset_index(name='perc_night_charge')"
      ],
      "metadata": {
        "id": "BmSciOSbLjjN"
      },
      "execution_count": null,
      "outputs": []
    },
    {
      "cell_type": "code",
      "source": [
        "# International Call Data\n",
        "telecom_data.groupby(['Churn'])['Total intl minutes'].mean().reset_index(name='perc_intl_mins')"
      ],
      "metadata": {
        "id": "ZynBV66BLpjn"
      },
      "execution_count": null,
      "outputs": []
    },
    {
      "cell_type": "code",
      "source": [
        "telecom_data.groupby(['Churn'])['Total intl calls'].mean().reset_index(name='perc_intl_calls')"
      ],
      "metadata": {
        "id": "bvbtaafBMxYx"
      },
      "execution_count": null,
      "outputs": []
    },
    {
      "cell_type": "code",
      "source": [
        "telecom_data.groupby(['Churn'])['Total intl charge'].mean().reset_index(name='perc_intl_charge')"
      ],
      "metadata": {
        "id": "pGIAfBh8M39I"
      },
      "execution_count": null,
      "outputs": []
    },
    {
      "cell_type": "code",
      "source": [
        "# Combining of day,evening and night calls, mins and charges\n",
        "telecom_data['Total calls'] = telecom_data.loc[:,['Total day calls','Total eve calls', 'Total night calls']].sum(axis=1)\n",
        "telecom_data['Total mins'] = telecom_data.loc[:,['Total day minutes','Total eve minutes', 'Total night minutes']].sum(axis=1)\n",
        "telecom_data['Total charge'] = telecom_data.loc[:,['Total day charge','Total eve charge', 'Total night charge']].sum(axis=1)\n",
        "\n",
        "# mins per call\n",
        "telecom_data['min_per_call'] = telecom_data['Total mins']/telecom_data['Total calls']\n",
        "\n",
        "#charge per min\n",
        "telecom_data['charge_per_min'] = telecom_data['Total charge']/telecom_data['Total mins']\n",
        "\n",
        "# International mins per call\n",
        "telecom_data['Intl_min_per_call'] = telecom_data['Total intl minutes']/telecom_data['Total intl calls']\n",
        "\n",
        "#International charge per min\n",
        "telecom_data['Intl_charge_per_min'] = telecom_data['Total intl charge']/telecom_data['Total intl minutes']"
      ],
      "metadata": {
        "id": "Py8tHxSeNA-n"
      },
      "execution_count": null,
      "outputs": []
    },
    {
      "cell_type": "code",
      "source": [
        "# Customer Service Call data\n",
        "print(\"No of unique service calls made :\", telecom_data['Customer service calls'].nunique())\n",
        "\n",
        "# Percentage of churning based on the customer service calls made\n",
        "(telecom_data.groupby(['Customer service calls'])['Churn'].mean()*100).reset_index(name='Perc_churned')"
      ],
      "metadata": {
        "id": "XQjI0FI7N5i_"
      },
      "execution_count": null,
      "outputs": []
    },
    {
      "cell_type": "markdown",
      "source": [
        "### What all manipulations have you done and insights you found?"
      ],
      "metadata": {
        "id": "MSa1f5Uengrz"
      }
    },
    {
      "cell_type": "markdown",
      "source": [
        "In our data wrangling process, our initial step involved examining customer churn rates to determine the proportion of customers who have churned compared to those who haven't. Utilizing visualizations, such as charts, proved instrumental in enhancing our understanding. As a result, we discovered that approximately 14.5% of our customers are classified as churned.\n",
        "\n",
        "There are total 483 Churned customers.Among them mostly are from area code 415 but if we check the distribution of churn it almost same in all area code.\n",
        "Also, we found out that those who has international plan their churn rate is higher, almost 42.41 % customers are churned.\n",
        "\n",
        "the highest chur happens among those customers who has neither international plan nor having vmail plan, almost around 62 %."
      ],
      "metadata": {
        "id": "LbyXE7I1olp8"
      }
    },
    {
      "cell_type": "markdown",
      "source": [
        "## ***4. Data Vizualization, Storytelling & Experimenting with charts : Understand the relationships between variables***"
      ],
      "metadata": {
        "id": "GF8Ens_Soomf"
      }
    },
    {
      "cell_type": "markdown",
      "source": [
        "#### Chart - 1 Visualization of Dependent Variable"
      ],
      "metadata": {
        "id": "0wOQAZs5pc--"
      }
    },
    {
      "cell_type": "code",
      "source": [
        "# Chart - 1  Dependent Column Value Counts\n",
        "print(telecom_data.Churn.value_counts())\n",
        "print(\" \")\n",
        "\n",
        "# Dependent Variable Column Visualization\n",
        "telecom_data['Churn'].value_counts().plot( kind='pie',figsize=(10,6),\n",
        "                                        autopct=\"%1.1f%%\",\n",
        "startangle=50,\n",
        "shadow=True,\n",
        "labels=['Not Churn(%)','Churn(%)'],\n",
        "colors=['green','red'],explode=[0.12,0])\n",
        "plt.title('Total Percentage of Churn')\n",
        "\n",
        "# Displaying chart\n",
        "plt.show()"
      ],
      "metadata": {
        "id": "7v_ESjsspbW7"
      },
      "execution_count": null,
      "outputs": []
    },
    {
      "cell_type": "markdown",
      "source": [
        "##### 1. Why did you pick the specific chart?"
      ],
      "metadata": {
        "id": "K5QZ13OEpz2H"
      }
    },
    {
      "cell_type": "markdown",
      "source": [
        "Pie charts excel at illustrating the distribution of parts within a whole, particularly when the data is already presented as percentages. They offer a visually engaging and straightforward method for showcasing proportions or percentages within a dataset."
      ],
      "metadata": {
        "id": "XESiWehPqBRc"
      }
    },
    {
      "cell_type": "markdown",
      "source": [
        "##### 2. What is/are the insight(s) found from the chart?"
      ],
      "metadata": {
        "id": "lQ7QKXXCp7Bj"
      }
    },
    {
      "cell_type": "markdown",
      "source": [
        "Based on the chart, we observe that out of the total customer dataset, 2,850 customers, or 85.5%, remain active, while 483 customers, equivalent to 14.5%, have churned. Although 14.5% might seem insignificant initially, it's crucial to note that this percentage has surged from 1.45% in the past. Therefore, urgent intervention is warranted to address this escalating churn rate."
      ],
      "metadata": {
        "id": "C_j1G7yiqdRP"
      }
    },
    {
      "cell_type": "markdown",
      "source": [
        "##### 3. Will the gained insights help creating a positive business impact?\n",
        "Are there any insights that lead to negative growth? Justify with specific reason."
      ],
      "metadata": {
        "id": "448CDAPjqfQr"
      }
    },
    {
      "cell_type": "markdown",
      "source": [
        "\n",
        "In an ideal scenario within the telecom industry, the expected customer churn rate typically falls between 15% to 20%. While our current churn rate stands at 14.5%, which isn't notably high, it's crucial to recognize that any level of customer churn can adversely impact business operations. Acquiring new customers is a challenging endeavor, far more demanding than retaining existing ones. Additionally, the ripple effect of a single churned customer can result in the loss of three to four potential customers who could have been acquired through persuasive communication strategies. Thus, understanding and leveraging insights from the churn rate is imperative for making informed decisions moving forward."
      ],
      "metadata": {
        "id": "3cspy4FjqxJW"
      }
    },
    {
      "cell_type": "markdown",
      "source": [
        "#### Chart - 2 State vs Average True churn percentage"
      ],
      "metadata": {
        "id": "KSlN3yHqYklG"
      }
    },
    {
      "cell_type": "code",
      "source": [
        "# Chart - 2  State vs. average true churn percentage visualization code\n",
        "\n",
        "# Vizualizing top 10 churned state\n",
        "plt.figure(figsize=(10,5))\n",
        "bar1 = ((telecom_data.groupby(['State'])['Churn'].mean()*100).sort_values(ascending = False).reset_index(name=\"Average True Churn \").head(10))\n",
        "plots = sns.barplot(data = bar1, x = 'State', y=\"Average True Churn \")\n",
        "for bar in plots.patches:\n",
        "  plots.annotate(format(bar.get_height(),'.2f'),\n",
        "                   (bar.get_x() + bar.get_width() / 2,\n",
        "                    bar.get_height()), ha='center', va='center',\n",
        "                   size=12, xytext=(0, 8),\n",
        "                   textcoords='offset points')\n",
        "\n",
        "plt.title(\" State with most churn percentage\", fontsize = 20)\n",
        "plt.xlabel('State', fontsize = 15)\n",
        "plt.ylabel('Percentage (%)', fontsize = 15)\n",
        "# Setting limit of the y axis from 0 to 30\n",
        "plt.ylim(0,30)\n",
        "plt.show()"
      ],
      "metadata": {
        "id": "R4YgtaqtYklH"
      },
      "execution_count": null,
      "outputs": []
    },
    {
      "cell_type": "code",
      "source": [
        "# Vizualizing bottom 10 churned state\n",
        "plt.figure(figsize=(10,5))\n",
        "bar1 = ((telecom_data.groupby(['State'])['Churn'].mean()*100).sort_values(ascending = True).reset_index(name=\"Average True Churn \").head(10))\n",
        "plots = sns.barplot(data = bar1, x = 'State', y=\"Average True Churn \")\n",
        "for bar in plots.patches:\n",
        "  plots.annotate(format(bar.get_height(),'.2f'),\n",
        "                   (bar.get_x() + bar.get_width() / 2,\n",
        "                    bar.get_height()), ha='center', va='center',\n",
        "                   size=12, xytext=(0, 8),\n",
        "                   textcoords='offset points')\n",
        "plt.title(\" State with least churn percentage\", fontsize = 20)\n",
        "plt.xlabel('State', fontsize = 15)\n",
        "plt.ylabel('Percentage (%)', fontsize = 15)\n",
        "# Setting limit of y axis from 0 to 10\n",
        "plt.ylim(0,10)\n",
        "plt.show()"
      ],
      "metadata": {
        "id": "bixWexWif88X"
      },
      "execution_count": null,
      "outputs": []
    },
    {
      "cell_type": "markdown",
      "source": [
        "##### 1. Why did you pick the specific chart?"
      ],
      "metadata": {
        "id": "t6dVpIINYklI"
      }
    },
    {
      "cell_type": "markdown",
      "source": [
        "\n",
        "Bar charts serve as effective tools for comparing the magnitudes or occurrences of various categories or data groups. They prove invaluable for juxtaposing data across diverse categories and efficiently presenting extensive datasets within a confined area. In our case, we've employed a bar chart to illustrate the average percentage of true churn relative to different states."
      ],
      "metadata": {
        "id": "5aaW0BYyYklI"
      }
    },
    {
      "cell_type": "markdown",
      "source": [
        "##### 2. What is/are the insight(s) found from the chart?"
      ],
      "metadata": {
        "id": "ijmpgYnKYklI"
      }
    },
    {
      "cell_type": "markdown",
      "source": [
        "Among the 51 states analyzed, 10 states—CA, NJ, TX, MD, SC, MI, MS, NV, WA, and ME—exhibit notably higher churn rates exceeding 20%, surpassing half of the average churn rate. Conversely, another set of 10 states—HI, AK, AZ, VA, IA, LA, NE, IL, WI, and RI—demonstrate lower churn rates, each falling below the 10% mark."
      ],
      "metadata": {
        "id": "PSx9atu2YklI"
      }
    },
    {
      "cell_type": "markdown",
      "source": [
        "##### 3. Will the gained insights help creating a positive business impact?\n",
        "Are there any insights that lead to negative growth? Justify with specific reason."
      ],
      "metadata": {
        "id": "-JiQyfWJYklI"
      }
    },
    {
      "cell_type": "markdown",
      "source": [
        "Indeed, the state-wise churn data highlights a significant number of states with an average churn rate exceeding 20%. This necessitates a thorough examination and further analysis to identify the underlying factors contributing to this high churn rate. By delving into these factors, we can gain insights crucial for devising strategies aimed at mitigating churn and enhancing customer retention in those states."
      ],
      "metadata": {
        "id": "BcBbebzrYklV"
      }
    },
    {
      "cell_type": "markdown",
      "source": [
        "#### Chart - 3 Histogram and Box Plot (Univariate) per column"
      ],
      "metadata": {
        "id": "EM7whBJCYoAo"
      }
    },
    {
      "cell_type": "code",
      "source": [
        "# Chart - 3 Visualizing code of histogram plot & boxplot for each columns to know the data distribution\n",
        "for col in telecom_data.describe().columns:\n",
        "    fig,axes = plt.subplots(nrows=1,ncols=2,figsize=(18,6))\n",
        "    sns.histplot(telecom_data[col], ax = axes[0],kde = True)\n",
        "    sns.boxplot(telecom_data[col], ax = axes[1],orient='h',showmeans=True,color='pink')\n",
        "    fig.suptitle(\"Distribution plot of \"+ col, fontsize = 15)\n",
        "    plt.show()"
      ],
      "metadata": {
        "id": "t6GMdE67YoAp"
      },
      "execution_count": null,
      "outputs": []
    },
    {
      "cell_type": "markdown",
      "source": [
        "##### 1. Why did you pick the specific chart?"
      ],
      "metadata": {
        "id": "fge-S5ZAYoAp"
      }
    },
    {
      "cell_type": "markdown",
      "source": [
        "When you aim to visualize the distribution of a single variable, histograms come into play. They're a specific type of bar chart designed to showcase the frequency or count of data points falling within predefined ranges. Histograms are particularly handy for representing continuous data like age, height, weight, or income. They offer insights into the distribution's shape, revealing any skewness or outliers and enabling the identification of patterns or trends.\n",
        "\n",
        "On the other hand, box plots, also known as box-and-whisker plots, serve a different purpose. They excel in comparing the distributions of two or more datasets, providing a visual summary of their essential statistical properties. Box plots offer a glimpse into differences or similarities in the spread and central tendency of the data, aiding in the comparison and analysis of multiple datasets."
      ],
      "metadata": {
        "id": "5dBItgRVYoAp"
      }
    },
    {
      "cell_type": "markdown",
      "source": [
        "##### 2. What is/are the insight(s) found from the chart?"
      ],
      "metadata": {
        "id": "85gYPyotYoAp"
      }
    },
    {
      "cell_type": "markdown",
      "source": [
        "Based on the distribution charts provided, it appears that all numerical columns exhibit symmetric distributions, with the mean and median values being approximately equal. This suggests a balanced distribution without significant skewness.\n",
        "\n",
        "However, in the case of the \"Area code\" column, which contains only three distinct values, it will be treated as a categorical variable rather than a numerical one. Categorical variables represent discrete categories or groups and are typically analyzed differently from numerical variables. Therefore, for analytical purposes, we'll categorize \"Area code\" accordingly."
      ],
      "metadata": {
        "id": "4jstXR6OYoAp"
      }
    },
    {
      "cell_type": "markdown",
      "source": [
        "##### 3. Will the gained insights help creating a positive business impact?\n",
        "Are there any insights that lead to negative growth? Justify with specific reason."
      ],
      "metadata": {
        "id": "RoGjAbkUYoAp"
      }
    },
    {
      "cell_type": "markdown",
      "source": [
        "Absolutely, histograms and box plots offer valuable insights into the distribution of data within a dataset. They provide visual representations that help us understand the spread, central tendency, and any potential outliers or patterns present in the data. However, they don't provide a comprehensive view of the entire dataset or capture all aspects of its characteristics.\n",
        "\n",
        "While histograms and box plots offer essential information about the distribution of individual variables, additional analysis techniques and statistical methods may be necessary to gain a deeper understanding of the data, such as correlation analysis, regression modeling, or hypothesis testing. These techniques can help uncover relationships between variables, identify trends, and make more informed decisions based on the data."
      ],
      "metadata": {
        "id": "zfJ8IqMcYoAp"
      }
    },
    {
      "cell_type": "markdown",
      "source": [
        "#### Chart - 4 Account Length with Churn"
      ],
      "metadata": {
        "id": "4Of9eVA-YrdM"
      }
    },
    {
      "cell_type": "code",
      "source": [
        "# Chart - 4  One Digit Account Length\n",
        "one_length = telecom_data[telecom_data['Account length']<=9].loc[:,['Churn']].value_counts()\n",
        "print(one_length)\n",
        "print(\" \")\n",
        "\n",
        "# Visualizing One Digit Account Length Based on Churn percentage\n",
        "#color palette selection\n",
        "colors = sns.color_palette('pastel')[0:7]\n",
        "textprops = {'fontsize':13}\n",
        "\n",
        "plt.figure(figsize=(15,7))\n",
        "# plotting pie chart\n",
        "plt.pie(one_length, labels=['Not Churn(%)','Churn(%)'], startangle=90, colors=colors, autopct=\"%1.1f%%\",textprops = textprops)\n",
        "plt.title('One Digit Account Length churn rate', fontsize=18)\n",
        "plt.show()"
      ],
      "metadata": {
        "id": "irlUoxc8YrdO"
      },
      "execution_count": null,
      "outputs": []
    },
    {
      "cell_type": "code",
      "source": [
        "# Two Digit Account Length\n",
        "two_account=telecom_data[(telecom_data['Account length']<=99) & (telecom_data['Account length']>=10)].loc[:,['Churn']].value_counts()\n",
        "print(two_account)\n",
        "print(\" \")\n",
        "\n",
        "# Visualizing Two Digit Account Length Based on Churn percentage\n",
        "#color palette selection\n",
        "colors = sns.color_palette('pastel')[0:7]\n",
        "textprops = {'fontsize':13}\n",
        "\n",
        "plt.figure(figsize=(15,7))\n",
        "# plotting pie chart\n",
        "plt.pie(two_account, labels=['Not Churn(%)','Churn(%)'], startangle=90, colors=colors, autopct=\"%1.1f%%\", textprops = textprops)\n",
        "plt.title('Two Digit Account Length churn rate', fontsize=18)\n",
        "plt.show()"
      ],
      "metadata": {
        "id": "7vr5AWcVu-fQ"
      },
      "execution_count": null,
      "outputs": []
    },
    {
      "cell_type": "code",
      "source": [
        "# Three Digit Account Length\n",
        "three_account=telecom_data[(telecom_data['Account length']<=telecom_data['Account length'].max()) & (telecom_data['Account length']>=100)].loc[:,['Churn']].value_counts()\n",
        "print(three_account)\n",
        "print(\" \")\n",
        "\n",
        "# Visualizing Three Digit Account Length Based on Churn percentage\n",
        "#color palette selection\n",
        "colors = sns.color_palette('pastel')[0:7]\n",
        "textprops = {'fontsize':13}\n",
        "\n",
        "plt.figure(figsize=(15,7))\n",
        "# plotting data on chart using seaborn\n",
        "plt.pie(three_account, labels=['Not Churn(%)','Churn(%)'],startangle=90 , colors=colors, autopct=\"%1.1f%%\",textprops = textprops)\n",
        "plt.title('Three Digit Account Length churn rate', fontsize=18)\n",
        "plt.show()"
      ],
      "metadata": {
        "id": "eIc4Xtv0vJZ0"
      },
      "execution_count": null,
      "outputs": []
    },
    {
      "cell_type": "code",
      "source": [
        "# Box Plot for Account Length attribute\n",
        "plt.figure(figsize=(10,8))\n",
        "sns.boxplot(data=telecom_data, x='Churn', y='Account length', showmeans = True)\n",
        "plt.title('Account Length Boxplot with Churn', fontsize=18)\n",
        "plt.show()"
      ],
      "metadata": {
        "id": "d660sfWNvb7G"
      },
      "execution_count": null,
      "outputs": []
    },
    {
      "cell_type": "markdown",
      "source": [
        "##### 1. Why did you pick the specific chart?"
      ],
      "metadata": {
        "id": "iky9q4vBYrdO"
      }
    },
    {
      "cell_type": "markdown",
      "source": [
        "Pie charts are typically utilized to illustrate the proportions of a whole, making them especially effective for presenting data that has already been converted into percentages. They offer a clear visual representation of how different parts contribute to the overall dataset.\n",
        "\n",
        "\n",
        "So, I used a pie chart to facilitate a percentage comparison of the churn rates based on account length.\n",
        "\n",
        "A box plot, on the other hand, is employed to summarize the key statistical characteristics of a dataset, including the median, quartiles, and range, all within a single visualization. Box plots are valuable for detecting outliers, comparing distributions across multiple datasets, and understanding the data's dispersion. They are frequently utilized in statistical analysis and data visualization.\n",
        "\n",
        "In this case, I used a box plot to determine the maximum and minimum values, identify well-segregated outliers, and clearly define the mean and median, as illustrated in the box plot graph."
      ],
      "metadata": {
        "id": "aJRCwT6DYrdO"
      }
    },
    {
      "cell_type": "markdown",
      "source": [
        "##### 2. What is/are the insight(s) found from the chart?"
      ],
      "metadata": {
        "id": "F6T5p64dYrdO"
      }
    },
    {
      "cell_type": "markdown",
      "source": [
        "We can observe that customers with two-digit account lengths have a churn count of 225, while those with three-digit account lengths have a churn count of 256. This indicates a high churn rate among these groups."
      ],
      "metadata": {
        "id": "Xx8WAJvtYrdO"
      }
    },
    {
      "cell_type": "markdown",
      "source": [
        "##### 3. Will the gained insights help creating a positive business impact?\n",
        "Are there any insights that lead to negative growth? Justify with specific reason."
      ],
      "metadata": {
        "id": "y-Ehk30pYrdP"
      }
    },
    {
      "cell_type": "markdown",
      "source": [
        "Account length represents the number of days customers have been active. For new customers, the churn rate is very low at around 8.3%, with only 2 customers churning. These customers might have been testing the telecom service and were not satisfied, leading to their churn.\n",
        "\n",
        "Customers with account lengths between 10 to 99 days have a churn rate of 14%. Those with account lengths below 50 days can still be considered relatively new, while those between 55 and 99 days may not be receiving sufficient benefits from their current plans, leading to higher churn rates.\n",
        "\n",
        "Customers with account lengths exceeding 100 days are considered long-term customers. They may be churning due to a lack of additional offers or benefits, such as power-plus plans or other incentives.\n",
        "\n",
        "Therefore, analyzing account length provides valuable insights into the reasons behind customer churn and highlights areas for potential improvement in customer retention strategies."
      ],
      "metadata": {
        "id": "jLNxxz7MYrdP"
      }
    },
    {
      "cell_type": "markdown",
      "source": [
        "#### Chart - 5 Voice Mail"
      ],
      "metadata": {
        "id": "bamQiAODYuh1"
      }
    },
    {
      "cell_type": "code",
      "source": [
        "# Chart - 5 visualization code\n",
        "\n",
        "# data for voice mail plan\n",
        "voice = telecom_data['Voice mail plan'].value_counts()\n",
        "\n",
        "# vizualizing code for customers percentage having voice mail plan\n",
        "\n",
        "#color palette selection\n",
        "palette_color = sns.color_palette('pastel')\n",
        "textprops = {'fontsize':13}\n",
        "\n",
        "# plotting chart of voice mail\n",
        "plt.figure(figsize=(9,7))\n",
        "plt.pie(voice, labels=['No','Yes'],startangle=90 , colors=palette_color, autopct=\"%1.1f%%\",textprops = textprops)\n",
        "plt.title('Distribution of customers having voice mail plan', fontsize=18)\n",
        "plt.show()"
      ],
      "metadata": {
        "id": "TIJwrbroYuh3"
      },
      "execution_count": null,
      "outputs": []
    },
    {
      "cell_type": "code",
      "source": [
        "# Vizualizing code for customers churning while having voice mail plan\n",
        "\n",
        "cc1=list(['no','yes'])\n",
        "cc2=telecom_data.groupby('Voice mail plan')['Churn'].mean()*100\n",
        "\n",
        "plt.figure(figsize=(6,8))\n",
        "plots = sns.barplot(x=cc1,y=cc2)\n",
        "for bar in plots.patches:\n",
        "  plots.annotate(format(bar.get_height(),'.2f'),\n",
        "                   (bar.get_x() + bar.get_width() / 2,\n",
        "                    bar.get_height()), ha='center', va='center',\n",
        "                   size=12, xytext=(0, 8),\n",
        "                   textcoords='offset points')\n",
        "\n",
        "plt.title(\" Percentage of customer churn on basis of voice mail plan\", fontsize = 20)\n",
        "plt.xlabel('Voice mail plan', fontsize = 15)\n",
        "plt.ylabel('Percentage (%)', fontsize = 15)\n",
        "plt.show()"
      ],
      "metadata": {
        "id": "cXPldHpR4wDu"
      },
      "execution_count": null,
      "outputs": []
    },
    {
      "cell_type": "markdown",
      "source": [
        "##### 1. Why did you pick the specific chart?"
      ],
      "metadata": {
        "id": "QHF8YVU7Yuh3"
      }
    },
    {
      "cell_type": "markdown",
      "source": [
        "Pie charts are generally used to illustrate the proportions of a whole, making them particularly effective for displaying data that has been calculated as percentages of the entire dataset. Therefore, we used a pie chart to show the percentage of customers with a voice mail plan.\n",
        "\n",
        "Bar charts, on the other hand, are ideal for comparing the size or frequency of different categories or groups of data. They are useful for comparing data across various categories and can efficiently display a large amount of data in a compact space. Hence, we utilized a bar chart to display the percentage of customers who have churned and possess a voice mail plan."
      ],
      "metadata": {
        "id": "dcxuIMRPYuh3"
      }
    },
    {
      "cell_type": "markdown",
      "source": [
        "##### 2. What is/are the insight(s) found from the chart?"
      ],
      "metadata": {
        "id": "GwzvFGzlYuh3"
      }
    },
    {
      "cell_type": "markdown",
      "source": [
        "A total of 2,411 customers do not have a voice mail plan, while 922 customers do have a voice mail plan. Among those without a voice mail plan, 16.7% have churned. In contrast, among those with a voice mail plan, only 8.7% have churned. This indicates that customers with a voice mail plan tend to churn less frequently."
      ],
      "metadata": {
        "id": "uyqkiB8YYuh3"
      }
    },
    {
      "cell_type": "markdown",
      "source": [
        "##### 3. Will the gained insights help creating a positive business impact?\n",
        "Are there any insights that lead to negative growth? Justify with specific reason."
      ],
      "metadata": {
        "id": "qYpmQ266Yuh3"
      }
    },
    {
      "cell_type": "markdown",
      "source": [
        "Yes, voice mail plan might be considered partially."
      ],
      "metadata": {
        "id": "_WtzZ_hCYuh4"
      }
    },
    {
      "cell_type": "markdown",
      "source": [
        "#### Chart - 6 Area Code"
      ],
      "metadata": {
        "id": "OH-pJp9IphqM"
      }
    },
    {
      "cell_type": "code",
      "source": [
        "# Chart - 6 visualization code\n",
        "# Visualizing code for Area Code wise average churn percentage\n",
        "a1= telecom_data['Area code'].unique()\n",
        "b1= telecom_data.groupby('Area code')['Churn'].mean()*100\n",
        "\n",
        "plt.figure(figsize=(6,5))\n",
        "plots = sns.barplot(x=a1, y=b1)\n",
        "for bar in plots.patches:\n",
        "  plots.annotate(format(bar.get_height(),'.2f'),\n",
        "                   (bar.get_x() + bar.get_width() / 2,\n",
        "                    bar.get_height()), ha='center', va='center',\n",
        "                   size=12, xytext=(0, 8),\n",
        "                   textcoords='offset points')\n",
        "plt.title('Area Code vs Churn Percantage',fontsize=20)\n",
        "plt.xlabel('Area code', fontsize = 15)\n",
        "plt.ylabel('Churn percentage (%)', fontsize = 15)\n",
        "plt.ylim(0,17)\n",
        "plt.show()"
      ],
      "metadata": {
        "id": "kuRf4wtuphqN"
      },
      "execution_count": null,
      "outputs": []
    },
    {
      "cell_type": "markdown",
      "source": [
        "##### 1. Why did you pick the specific chart?"
      ],
      "metadata": {
        "id": "bbFf2-_FphqN"
      }
    },
    {
      "cell_type": "markdown",
      "source": [
        "\n",
        "Bar charts are used to compare the size or frequency of different categories or groups of data. They are useful for comparing data across various categories and can efficiently display a large amount of data in a compact space.\n",
        "\n",
        "To illustrate the average percentage of true churn concerning Area Code, we have utilized a bar chart."
      ],
      "metadata": {
        "id": "loh7H2nzphqN"
      }
    },
    {
      "cell_type": "markdown",
      "source": [
        "##### 2. What is/are the insight(s) found from the chart?"
      ],
      "metadata": {
        "id": "_ouA3fa0phqN"
      }
    },
    {
      "cell_type": "markdown",
      "source": [
        "All Area Code have around 14% Churn rate. So, Area Code doesn't matter."
      ],
      "metadata": {
        "id": "VECbqPI7phqN"
      }
    },
    {
      "cell_type": "markdown",
      "source": [
        "##### 3. Will the gained insights help creating a positive business impact?\n",
        "Are there any insights that lead to negative growth? Justify with specific reason."
      ],
      "metadata": {
        "id": "Seke61FWphqN"
      }
    },
    {
      "cell_type": "markdown",
      "source": [
        "Area Code does not significantly impact the churn rate, as the churn rate remains consistent at 14% across all area codes. However, when we further segregate the area codes by their respective states, we can better analyze and identify the specific states where issues are occurring. Thus, while the Area Code itself may not help create a business impact, a state-wise analysis within those area codes can provide valuable insights for addressing churn-related issues."
      ],
      "metadata": {
        "id": "DW4_bGpfphqN"
      }
    },
    {
      "cell_type": "markdown",
      "source": [
        "#### Chart - 7 International Plan"
      ],
      "metadata": {
        "id": "PIIx-8_IphqN"
      }
    },
    {
      "cell_type": "code",
      "source": [
        "# Chart - 7 visualization code\n",
        "\n",
        "# data for international plan\n",
        "inter_plan = telecom_data['International plan'].value_counts()\n",
        "print(inter_plan)\n",
        "print(\" \")\n",
        "\n",
        "# Visualizing Percentage of customers taken international plan\n",
        "#color palette selection\n",
        "colors = sns.color_palette('husl')[0:7]\n",
        "textprops = {'fontsize':13}\n",
        "\n",
        "plt.figure(figsize=(15,7))\n",
        "# plotting pie chart\n",
        "plt.pie(inter_plan, labels=['No','Yes'],startangle=90 , colors=colors, autopct=\"%1.1f%%\", textprops = textprops)\n",
        "plt.title('International Plan', fontsize=18)\n",
        "plt.show()"
      ],
      "metadata": {
        "id": "lqAIGUfyphqO"
      },
      "execution_count": null,
      "outputs": []
    },
    {
      "cell_type": "code",
      "source": [
        "i1 = telecom_data['International plan'].unique()\n",
        "i2 = telecom_data.groupby('International plan')['Churn'].mean()*100\n",
        "i3 = telecom_data.groupby(['International plan'])['Total intl charge'].mean()\n",
        "i4 = telecom_data.groupby([\"Churn\"])['Total intl minutes'].mean()"
      ],
      "metadata": {
        "id": "60nOWT0TFKWv"
      },
      "execution_count": null,
      "outputs": []
    },
    {
      "cell_type": "code",
      "source": [
        "# Visualizing code for people churning percentage having international plan\n",
        "plt.figure(figsize=(6,7))\n",
        "plots = sns.barplot(x=i1,y=i2)\n",
        "for bar in plots.patches:\n",
        "  plots.annotate(format(bar.get_height(),'.2f'),\n",
        "                   (bar.get_x() + bar.get_width() / 2,\n",
        "                    bar.get_height()), ha='center', va='center',\n",
        "                   size=12, xytext=(0, 8),\n",
        "                   textcoords='offset points')\n",
        "\n",
        "plt.title(\" Percentage of customer churn on basis of International plan\", fontsize = 20)\n",
        "plt.xlabel('International plan', fontsize = 15)\n",
        "plt.ylabel('Percentage (%)', fontsize = 15)\n",
        "plt.ylim(0,45)\n",
        "plt.show()"
      ],
      "metadata": {
        "id": "wq06fJLTFWfC"
      },
      "execution_count": null,
      "outputs": []
    },
    {
      "cell_type": "code",
      "source": [
        "# Visualizing code for average calling charge of customers having international plan\n",
        "plt.figure(figsize=(6,7))\n",
        "plots = sns.barplot(x=i1,y=i3)\n",
        "for bar in plots.patches:\n",
        "  plots.annotate(format(bar.get_height(),'.2f'),\n",
        "                   (bar.get_x() + bar.get_width() / 2,\n",
        "                    bar.get_height()), ha='center', va='center',\n",
        "                   size=12, xytext=(0, 8),\n",
        "                   textcoords='offset points')\n",
        "plt.title(\" Average charges on the basis of International plan\", fontsize = 20)\n",
        "plt.xlabel('International plan', fontsize = 15)\n",
        "plt.ylabel('Charges', fontsize = 15)\n",
        "plt.ylim(0,3.5)\n",
        "plt.show()"
      ],
      "metadata": {
        "id": "FJ_yKuWoFdA8"
      },
      "execution_count": null,
      "outputs": []
    },
    {
      "cell_type": "code",
      "source": [
        "# Visualizing code for average minutes talked by customers having international plan\n",
        "plt.figure(figsize=(6,7))\n",
        "plots = sns.barplot(x=i1,y=i4)\n",
        "for bar in plots.patches:\n",
        "  plots.annotate(format(bar.get_height(),'.2f'),\n",
        "                   (bar.get_x() + bar.get_width() / 2,\n",
        "                    bar.get_height()), ha='center', va='center',\n",
        "                   size=12, xytext=(0, 8),\n",
        "                   textcoords='offset points')\n",
        "plt.title(\" Average International minutes on basis of international plan\", fontsize = 20)\n",
        "plt.xlabel('International Plan', fontsize = 15)\n",
        "plt.ylabel('Minutes', fontsize = 15)\n",
        "plt.ylim(0,12)\n",
        "plt.show()"
      ],
      "metadata": {
        "id": "IEIMcK-uFlhL"
      },
      "execution_count": null,
      "outputs": []
    },
    {
      "cell_type": "markdown",
      "source": [
        "##### 1. Why did you pick the specific chart?"
      ],
      "metadata": {
        "id": "t27r6nlMphqO"
      }
    },
    {
      "cell_type": "markdown",
      "source": [
        "Pie charts are generally used to illustrate the proportions of a whole and are especially effective for displaying data that has been calculated as percentages. Therefore, we used a pie chart with different colored sections to show the percentage of customers who have taken an international plan.\n",
        "\n",
        "Bar charts, on the other hand, are useful for comparing the size or frequency of different categories or groups of data. They are ideal for displaying a large amount of data in a compact space. Consequently, we used a bar chart to show the percentage of customers who have churned and have an international plan, as well as the average calling charges and average conversation minutes for customers with an international plan."
      ],
      "metadata": {
        "id": "iv6ro40sphqO"
      }
    },
    {
      "cell_type": "markdown",
      "source": [
        "##### 2. What is/are the insight(s) found from the chart?"
      ],
      "metadata": {
        "id": "r2jJGEOYphqO"
      }
    },
    {
      "cell_type": "markdown",
      "source": [
        "In this analysis, among the customers, 3010 do not have an international plan, while 323 have opted for one. Among those with an international plan, 42.4% have churned, whereas among those without, only 11.4% have churned.\n",
        "\n",
        "Additionally, customers with an international plan have an average charge of $2.87 and speak for an average of 10.7 minutes. In contrast, those without an international plan have an average charge of $2.75 and speak for an average of 10.16 minutes.\n",
        "\n",
        "The higher churn rate among customers with international plans suggests dissatisfaction, potentially stemming from paying the same amount for international calls as those without such plans. Consequently, customers may feel they're not receiving the expected benefits from their international plan, leading to higher churn rates among this group."
      ],
      "metadata": {
        "id": "Po6ZPi4hphqO"
      }
    },
    {
      "cell_type": "markdown",
      "source": [
        "##### 3. Will the gained insights help creating a positive business impact?\n",
        "Are there any insights that lead to negative growth? Justify with specific reason."
      ],
      "metadata": {
        "id": "b0JNsNcRphqO"
      }
    },
    {
      "cell_type": "markdown",
      "source": [
        "Absolutely, those insights can indeed have a positive impact on business decisions. The discrepancy between the additional charges associated with international plans and the lack of corresponding benefits in call rates compared to customers without such plans could be a significant factor contributing to higher churn rates among international plan subscribers. Addressing this issue by adjusting pricing or offering additional incentives to international plan subscribers could help improve customer satisfaction and retention rates in the future."
      ],
      "metadata": {
        "id": "xvSq8iUTphqO"
      }
    },
    {
      "cell_type": "markdown",
      "source": [
        "#### Chart - 8 Overall Calls"
      ],
      "metadata": {
        "id": "BZR9WyysphqO"
      }
    },
    {
      "cell_type": "code",
      "source": [
        "# Chart - 8 visualization code\n",
        "# Average of total day calls, total day minutes & total day charge of churn\n",
        "cn_dcalls = pd.DataFrame(telecom_data.groupby([\"Churn\"])['Total day calls'].mean())\n",
        "print(cn_dcalls)\n",
        "print('')\n",
        "cn_dm = pd.DataFrame(telecom_data.groupby([\"Churn\"])['Total day minutes'].mean())\n",
        "print(cn_dm)\n",
        "print('')\n",
        "cn_dc = pd.DataFrame(telecom_data.groupby([\"Churn\"])['Total day charge'].mean())\n",
        "print(cn_dc)"
      ],
      "metadata": {
        "id": "TdPTWpAVphqO"
      },
      "execution_count": null,
      "outputs": []
    },
    {
      "cell_type": "code",
      "source": [
        "# Vizualizing Total day minutes vs total day charge\n",
        "plt.figure(figsize=(7,8))\n",
        "sns.scatterplot(data=telecom_data, x=\"Total day minutes\", y=\"Total day charge\", hue=\"Churn\")\n",
        "plt.title('Total Day Minutes, vs Total Day Charge', fontsize=18)\n",
        "plt.xlabel('Total day minutes',fontsize = 13)\n",
        "plt.ylabel('Total day charges',fontsize = 13)\n",
        "plt.show()\n"
      ],
      "metadata": {
        "id": "luOH4gHyGmr0"
      },
      "execution_count": null,
      "outputs": []
    },
    {
      "cell_type": "code",
      "source": [
        "# Average of total eve calls, total eve minutes & total evening charge of churn\n",
        "cn_ecalls = pd.DataFrame(telecom_data.groupby([\"Churn\"])['Total eve calls'].mean())\n",
        "print(cn_ecalls)\n",
        "print(\" \")\n",
        "cn_em = pd.DataFrame(telecom_data.groupby([\"Churn\"])['Total eve minutes'].mean())\n",
        "print(cn_em)\n",
        "print(\" \")\n",
        "cn_ec = pd.DataFrame(telecom_data.groupby([\"Churn\"])['Total eve charge'].mean())\n",
        "print(cn_ec)"
      ],
      "metadata": {
        "id": "0XAlDAfUGqrS"
      },
      "execution_count": null,
      "outputs": []
    },
    {
      "cell_type": "code",
      "source": [
        "# Vizualizing total evening minutes vs total evening charge\n",
        "plt.figure(figsize=(7,8))\n",
        "sns.scatterplot(x=\"Total eve minutes\", y=\"Total eve charge\", hue=\"Churn\", data=telecom_data)\n",
        "plt.title('Total evening minutes vs Total evening charge', fontsize=18)\n",
        "plt.xlabel('Total eve minutes',fontsize = 13)\n",
        "plt.ylabel('Total eve charges',fontsize = 13)\n",
        "plt.show()"
      ],
      "metadata": {
        "id": "VUHaeqVeGyRq"
      },
      "execution_count": null,
      "outputs": []
    },
    {
      "cell_type": "code",
      "source": [
        "# Average of total night calls, total night minutes & total night charge of churn\n",
        "cn_ncalls = pd.DataFrame(telecom_data.groupby([\"Churn\"])['Total night calls'].mean())\n",
        "print(cn_ncalls)\n",
        "print(\" \")\n",
        "cn_nm = pd.DataFrame(telecom_data.groupby([\"Churn\"])['Total night minutes'].mean())\n",
        "print(cn_nm)\n",
        "print(\" \")\n",
        "cn_nc = pd.DataFrame(telecom_data.groupby([\"Churn\"])['Total night charge'].mean())\n",
        "print(cn_nc)\n"
      ],
      "metadata": {
        "id": "wT6qKrTgG82A"
      },
      "execution_count": null,
      "outputs": []
    },
    {
      "cell_type": "code",
      "source": [
        "# Vizualizing Total night minutes vs total night charge\n",
        "plt.figure(figsize=(7,8))\n",
        "sns.scatterplot(x=\"Total night minutes\", y=\"Total night charge\", hue=\"Churn\", data=telecom_data)\n",
        "plt.title('Total night minutes vs Total night charge', fontsize=18)\n",
        "plt.xlabel('Total night minutes',fontsize = 13)\n",
        "plt.ylabel('Total night charges',fontsize = 13)\n",
        "plt.show()"
      ],
      "metadata": {
        "id": "6obpfMGbG8yA"
      },
      "execution_count": null,
      "outputs": []
    },
    {
      "cell_type": "code",
      "source": [
        "# Table of average calls of total day, eve & night on basis of churn\n",
        "cn_calls = pd.merge(pd.merge(cn_dcalls,cn_ecalls, on = 'Churn'),cn_ncalls,on = 'Churn').round(2).T\n",
        "cn_calls"
      ],
      "metadata": {
        "id": "rs_BZGiSHKaP"
      },
      "execution_count": null,
      "outputs": []
    },
    {
      "cell_type": "code",
      "source": [
        "# Bar plot of above table\n",
        "plt.figure(figsize=(9,6))\n",
        "cn_calls.plot(kind='bar',ylabel='mean')\n",
        "plt.title('Average of calls on the basis of churn', fontsize=18)\n",
        "plt.xlabel(\"calls\", fontsize = 13)\n",
        "plt.ylabel('Average of Calls',fontsize = 13)\n",
        "plt.show()"
      ],
      "metadata": {
        "id": "QrM8mdTYHMya"
      },
      "execution_count": null,
      "outputs": []
    },
    {
      "cell_type": "code",
      "source": [
        "# Table of average minutes of total day, eve & night on basis of churn\n",
        "cn_minutes = pd.merge(pd.merge(cn_dm,cn_em, on = 'Churn'),cn_nm,on = 'Churn').round(2).T\n",
        "cn_minutes"
      ],
      "metadata": {
        "id": "tyCQM6xaHRp1"
      },
      "execution_count": null,
      "outputs": []
    },
    {
      "cell_type": "code",
      "source": [
        "# Bar plot of above table\n",
        "plt.figure(figsize=(9,6))\n",
        "cn_minutes.plot(kind='bar',ylabel='mean')\n",
        "plt.title('Average of minutes on the basis of churn', fontsize=18)\n",
        "plt.xlabel(\"minutes\", fontsize = 13)\n",
        "plt.ylabel('Average of minutes',fontsize = 13)\n",
        "plt.show()"
      ],
      "metadata": {
        "id": "fcTbgfKcHZgS"
      },
      "execution_count": null,
      "outputs": []
    },
    {
      "cell_type": "code",
      "source": [
        "# Table of average charges of total day, eve & night on basis of churn\n",
        "cn_charges = pd.merge(pd.merge(cn_dc,cn_ec, on = 'Churn'),cn_nc,on = 'Churn').round(2).T\n",
        "cn_charges"
      ],
      "metadata": {
        "id": "HOypPcfTHgUp"
      },
      "execution_count": null,
      "outputs": []
    },
    {
      "cell_type": "code",
      "source": [
        "# Bar plot of above table\n",
        "plt.figure(figsize=(9,7))\n",
        "cn_charges.plot(kind='bar',ylabel='mean')\n",
        "plt.title('Average of charges on the basis of churn', fontsize=18)\n",
        "plt.xlabel(\"Charges\", fontsize = 13)\n",
        "plt.ylabel('Average of charges',fontsize = 13)\n",
        "plt.show()"
      ],
      "metadata": {
        "id": "yd7wQ60LHiqL"
      },
      "execution_count": null,
      "outputs": []
    },
    {
      "cell_type": "markdown",
      "source": [
        "##### 1. Why did you pick the specific chart?"
      ],
      "metadata": {
        "id": "jj7wYXLtphqO"
      }
    },
    {
      "cell_type": "markdown",
      "source": [
        "\n",
        "Scatter plots are indeed effective for illustrating the relationship between two numerical variables, aiding in the identification of patterns and trends in the data. Hence, we utilized a scatter plot to visualize the relationship between evening, day, and night calls, minutes, and charges.\n",
        "\n",
        "On the other hand, bar charts excel in comparing the size or frequency of different categories or groups of data, making them ideal for displaying a large amount of data within a confined space. Therefore, we employed a bar plot to showcase the manipulated data for evening, night, and day categories, aiming to convey meaningful insights from the analysis."
      ],
      "metadata": {
        "id": "Ob8u6rCTphqO"
      }
    },
    {
      "cell_type": "markdown",
      "source": [
        "##### 2. What is/are the insight(s) found from the chart?"
      ],
      "metadata": {
        "id": "eZrbJ2SmphqO"
      }
    },
    {
      "cell_type": "markdown",
      "source": [
        "Your observation is insightful. It seems that churn customers tend to speak more minutes during the day, evening, and night compared to non-churn customers. Consequently, they end up paying higher charges than non-churn customers.\n",
        "\n",
        "Introducing a master plan that offers discounts or additional free minutes for customers who frequently exceed their allotted talk time could be a strategic move to retain churn customers. This approach not only incentivizes high-usage customers to stay with the company but also enhances customer satisfaction by offering them better value for their usage. By addressing the needs of churn customers in this manner, the company can potentially reduce churn rates and foster greater customer loyalty."
      ],
      "metadata": {
        "id": "mZtgC_hjphqO"
      }
    },
    {
      "cell_type": "markdown",
      "source": [
        "##### 3. Will the gained insights help creating a positive business impact?\n",
        "Are there any insights that lead to negative growth? Justify with specific reason."
      ],
      "metadata": {
        "id": "rFu4xreNphqO"
      }
    },
    {
      "cell_type": "markdown",
      "source": [
        "Overall, by strategically optimizing voice call plans and tailoring offers to meet the diverse needs of different customer segments, the telecom service provider can improve customer satisfaction, increase retention rates, and ultimately drive positive business outcomes."
      ],
      "metadata": {
        "id": "ey_0qi68phqO"
      }
    },
    {
      "cell_type": "markdown",
      "source": [
        "#### Chart - 9 Customer Service Calls"
      ],
      "metadata": {
        "id": "YJ55k-q6phqO"
      }
    },
    {
      "cell_type": "code",
      "source": [
        "# Chart - 9 visualization code\n",
        "# data for customer service calls\n",
        "service = pd.DataFrame(telecom_data.groupby('Customer service calls')['Churn'].mean()*100)\n",
        "\n",
        "# Visualizing churn rate per customer service calls\n",
        "plt.figure(figsize=(12,9))\n",
        "plots = sns.barplot(x=service.index, y=service['Churn'])\n",
        "for bar in plots.patches:\n",
        "  plots.annotate(format(bar.get_height(),'.2f'),\n",
        "                   (bar.get_x() + bar.get_width() / 2,\n",
        "                    bar.get_height()), ha='center', va='center',\n",
        "                   size=12, xytext=(0, 8),\n",
        "                   textcoords='offset points')\n",
        "plt.title(\"Churn rate per service call\", fontsize = 20)\n",
        "plt.xlabel('No of cust service call', fontsize = 15)\n",
        "plt.ylabel('Percentage (%)', fontsize = 15)\n",
        "plt.show()"
      ],
      "metadata": {
        "id": "B2aS4O1ophqO"
      },
      "execution_count": null,
      "outputs": []
    },
    {
      "cell_type": "markdown",
      "source": [
        "##### 1. Why did you pick the specific chart?"
      ],
      "metadata": {
        "id": "gCFgpxoyphqP"
      }
    },
    {
      "cell_type": "markdown",
      "source": [
        "Using a bar plot to illustrate the relationship between churn rate and customer service calls is an effective approach. Bar charts are well-suited for comparing the size or frequency of different categories or groups of data, making them ideal for visualizing churn rates across various levels of customer service calls. This visualization can provide valuable insights into how customer service interactions impact churn rates, allowing businesses to identify areas for improvement and develop targeted strategies to reduce churn and enhance customer satisfaction."
      ],
      "metadata": {
        "id": "TVxDimi2phqP"
      }
    },
    {
      "cell_type": "markdown",
      "source": [
        "##### 2. What is/are the insight(s) found from the chart?"
      ],
      "metadata": {
        "id": "OVtJsKN_phqQ"
      }
    },
    {
      "cell_type": "markdown",
      "source": [
        "the observation that customers with four or more service calls churn more than four times as often highlights the importance of focusing efforts on addressing the needs of these customers. Implementing targeted retention strategies tailored to this segment can help mitigate churn and foster long-term customer loyalty."
      ],
      "metadata": {
        "id": "ngGi97qjphqQ"
      }
    },
    {
      "cell_type": "markdown",
      "source": [
        "##### 3. Will the gained insights help creating a positive business impact?\n",
        "Are there any insights that lead to negative growth? Justify with specific reason."
      ],
      "metadata": {
        "id": "lssrdh5qphqQ"
      }
    },
    {
      "cell_type": "markdown",
      "source": [
        " prioritizing customer service excellence through efficient query resolution, proactive issue management, and agent recognition initiatives can significantly contribute to the success and growth of the business."
      ],
      "metadata": {
        "id": "tBpY5ekJphqQ"
      }
    },
    {
      "cell_type": "markdown",
      "source": [
        "#### Chart - 10 Correlation Heatmap"
      ],
      "metadata": {
        "id": "U2RJ9gkRphqQ"
      }
    },
    {
      "cell_type": "code",
      "source": [
        "# Correlation Heatmap visualization code\n",
        "# Identify non-numerical columns\n",
        "non_numeric_cols = telecom_data.select_dtypes(exclude=['number']).columns\n",
        "\n",
        "# Example: One-hot encode categorical columns\n",
        "telecom_data_encoded = pd.get_dummies(telecom_data, columns=non_numeric_cols)\n",
        "\n",
        "# Calculate correlations on the encoded DataFrame\n",
        "corr = telecom_data_encoded.corr()\n",
        "#corr = telecom_data.corr()\n",
        "mask = np.zeros_like(corr)\n",
        "\n",
        "mask[np.triu_indices_from(mask)] = False\n",
        "\n",
        "with sns.axes_style(\"white\"):\n",
        "    f, ax = plt.subplots(figsize=(18, 12))\n",
        "    ax = sns.heatmap(corr , mask=mask, vmin = -1,vmax=1, annot = True, cmap=\"YlGnBu\")"
      ],
      "metadata": {
        "id": "GM7a4YP4phqQ"
      },
      "execution_count": null,
      "outputs": []
    },
    {
      "cell_type": "markdown",
      "source": [
        "##### 1. Why did you pick the specific chart?"
      ],
      "metadata": {
        "id": "1M8mcRywphqQ"
      }
    },
    {
      "cell_type": "markdown",
      "source": [
        "the concept of correlation and correlation matrix succinctly. The correlation coefficient indeed measures the strength and direction of a linear relationship between two variables, with a range of [-1, 1]. A correlation matrix summarizes the relationships among a set of variables, providing valuable insights for data exploration and variable selection in modeling tasks. A correlation of 1 indicates a perfect positive linear relationship, -1 indicates a perfect negative linear relationship, and 0 indicates no linear relationship between the variables. Thank you for sharing this important information!"
      ],
      "metadata": {
        "id": "8agQvks0phqQ"
      }
    },
    {
      "cell_type": "markdown",
      "source": [
        "##### 2. What is/are the insight(s) found from the chart?"
      ],
      "metadata": {
        "id": "tgIPom80phqQ"
      }
    },
    {
      "cell_type": "markdown",
      "source": [
        "the correlation heatmap provides valuable insights into the relationships between different variables in the dataset, helping to identify patterns and trends that can inform further analysis and decision-making."
      ],
      "metadata": {
        "id": "Qp13pnNzphqQ"
      }
    },
    {
      "cell_type": "markdown",
      "source": [
        "##### 3. Will the gained insights help creating a positive business impact?\n",
        "Are there any insights that lead to negative growth? Justify with specific reason."
      ],
      "metadata": {
        "id": "JMzcOPDDphqR"
      }
    },
    {
      "cell_type": "markdown",
      "source": [
        "Yes"
      ],
      "metadata": {
        "id": "R4Ka1PC2phqR"
      }
    },
    {
      "cell_type": "markdown",
      "source": [
        "#### Chart - 11"
      ],
      "metadata": {
        "id": "x-EpHcCOp1ci"
      }
    },
    {
      "cell_type": "code",
      "source": [
        "# Chart - 11 visualization code"
      ],
      "metadata": {
        "id": "mAQTIvtqp1cj"
      },
      "execution_count": null,
      "outputs": []
    },
    {
      "cell_type": "markdown",
      "source": [
        "##### 1. Why did you pick the specific chart?"
      ],
      "metadata": {
        "id": "X_VqEhTip1ck"
      }
    },
    {
      "cell_type": "markdown",
      "source": [
        "Answer Here."
      ],
      "metadata": {
        "id": "-vsMzt_np1ck"
      }
    },
    {
      "cell_type": "markdown",
      "source": [
        "##### 2. What is/are the insight(s) found from the chart?"
      ],
      "metadata": {
        "id": "8zGJKyg5p1ck"
      }
    },
    {
      "cell_type": "markdown",
      "source": [
        "Answer Here"
      ],
      "metadata": {
        "id": "ZYdMsrqVp1ck"
      }
    },
    {
      "cell_type": "markdown",
      "source": [
        "##### 3. Will the gained insights help creating a positive business impact?\n",
        "Are there any insights that lead to negative growth? Justify with specific reason."
      ],
      "metadata": {
        "id": "PVzmfK_Ep1ck"
      }
    },
    {
      "cell_type": "markdown",
      "source": [
        "Answer Here"
      ],
      "metadata": {
        "id": "druuKYZpp1ck"
      }
    },
    {
      "cell_type": "markdown",
      "source": [
        "#### Chart - 12"
      ],
      "metadata": {
        "id": "n3dbpmDWp1ck"
      }
    },
    {
      "cell_type": "code",
      "source": [
        "# Chart - 12 visualization code"
      ],
      "metadata": {
        "id": "bwevp1tKp1ck"
      },
      "execution_count": null,
      "outputs": []
    },
    {
      "cell_type": "markdown",
      "source": [
        "##### 1. Why did you pick the specific chart?"
      ],
      "metadata": {
        "id": "ylSl6qgtp1ck"
      }
    },
    {
      "cell_type": "markdown",
      "source": [
        "Answer Here."
      ],
      "metadata": {
        "id": "m2xqNkiQp1ck"
      }
    },
    {
      "cell_type": "markdown",
      "source": [
        "##### 2. What is/are the insight(s) found from the chart?"
      ],
      "metadata": {
        "id": "ZWILFDl5p1ck"
      }
    },
    {
      "cell_type": "markdown",
      "source": [
        "Answer Here"
      ],
      "metadata": {
        "id": "x-lUsV2mp1ck"
      }
    },
    {
      "cell_type": "markdown",
      "source": [
        "##### 3. Will the gained insights help creating a positive business impact?\n",
        "Are there any insights that lead to negative growth? Justify with specific reason."
      ],
      "metadata": {
        "id": "M7G43BXep1ck"
      }
    },
    {
      "cell_type": "markdown",
      "source": [
        "Answer Here"
      ],
      "metadata": {
        "id": "5wwDJXsLp1cl"
      }
    },
    {
      "cell_type": "markdown",
      "source": [
        "#### Chart - 13"
      ],
      "metadata": {
        "id": "Ag9LCva-p1cl"
      }
    },
    {
      "cell_type": "code",
      "source": [
        "# Chart - 13 visualization code"
      ],
      "metadata": {
        "id": "EUfxeq9-p1cl"
      },
      "execution_count": null,
      "outputs": []
    },
    {
      "cell_type": "markdown",
      "source": [
        "##### 1. Why did you pick the specific chart?"
      ],
      "metadata": {
        "id": "E6MkPsBcp1cl"
      }
    },
    {
      "cell_type": "markdown",
      "source": [
        "Answer Here."
      ],
      "metadata": {
        "id": "V22bRsFWp1cl"
      }
    },
    {
      "cell_type": "markdown",
      "source": [
        "##### 2. What is/are the insight(s) found from the chart?"
      ],
      "metadata": {
        "id": "2cELzS2fp1cl"
      }
    },
    {
      "cell_type": "markdown",
      "source": [
        "Answer Here"
      ],
      "metadata": {
        "id": "ozQPc2_Ip1cl"
      }
    },
    {
      "cell_type": "markdown",
      "source": [
        "##### 3. Will the gained insights help creating a positive business impact?\n",
        "Are there any insights that lead to negative growth? Justify with specific reason."
      ],
      "metadata": {
        "id": "3MPXvC8up1cl"
      }
    },
    {
      "cell_type": "markdown",
      "source": [
        "Answer Here"
      ],
      "metadata": {
        "id": "GL8l1tdLp1cl"
      }
    },
    {
      "cell_type": "markdown",
      "source": [
        "#### Chart - 14 - Correlation Heatmap"
      ],
      "metadata": {
        "id": "NC_X3p0fY2L0"
      }
    },
    {
      "cell_type": "code",
      "source": [
        "# Correlation Heatmap visualization code"
      ],
      "metadata": {
        "id": "xyC9zolEZNRQ"
      },
      "execution_count": null,
      "outputs": []
    },
    {
      "cell_type": "markdown",
      "source": [
        "##### 1. Why did you pick the specific chart?"
      ],
      "metadata": {
        "id": "UV0SzAkaZNRQ"
      }
    },
    {
      "cell_type": "markdown",
      "source": [
        "Answer Here."
      ],
      "metadata": {
        "id": "DVPuT8LYZNRQ"
      }
    },
    {
      "cell_type": "markdown",
      "source": [
        "##### 2. What is/are the insight(s) found from the chart?"
      ],
      "metadata": {
        "id": "YPEH6qLeZNRQ"
      }
    },
    {
      "cell_type": "markdown",
      "source": [
        "Answer Here"
      ],
      "metadata": {
        "id": "bfSqtnDqZNRR"
      }
    },
    {
      "cell_type": "markdown",
      "source": [
        "#### Chart - 15 - Pair Plot"
      ],
      "metadata": {
        "id": "q29F0dvdveiT"
      }
    },
    {
      "cell_type": "code",
      "source": [
        "# Pair Plot visualization code"
      ],
      "metadata": {
        "id": "o58-TEIhveiU"
      },
      "execution_count": null,
      "outputs": []
    },
    {
      "cell_type": "markdown",
      "source": [
        "##### 1. Why did you pick the specific chart?"
      ],
      "metadata": {
        "id": "EXh0U9oCveiU"
      }
    },
    {
      "cell_type": "markdown",
      "source": [
        "Answer Here."
      ],
      "metadata": {
        "id": "eMmPjTByveiU"
      }
    },
    {
      "cell_type": "markdown",
      "source": [
        "##### 2. What is/are the insight(s) found from the chart?"
      ],
      "metadata": {
        "id": "22aHeOlLveiV"
      }
    },
    {
      "cell_type": "markdown",
      "source": [
        "Answer Here"
      ],
      "metadata": {
        "id": "uPQ8RGwHveiV"
      }
    },
    {
      "cell_type": "markdown",
      "source": [
        "## **5. Solution to Business Objective**"
      ],
      "metadata": {
        "id": "JcMwzZxoAimU"
      }
    },
    {
      "cell_type": "markdown",
      "source": [
        "#### What do you suggest the client to achieve Business Objective ?\n",
        "Explain Briefly."
      ],
      "metadata": {
        "id": "8G2x9gOozGDZ"
      }
    },
    {
      "cell_type": "markdown",
      "source": [
        "Solution to Reduce Customer Churn\n",
        "\n",
        "Modify International Plan as the charge is same as normal one.\n",
        "\n",
        "*   Be proactive with communication.\n",
        "*   Ask for feedback often.\n",
        "\n",
        "*   Periodically throw Offers to retain customers.\n",
        "*   Look at the customers facing problem in the most churning states.\n",
        "\n",
        "*   Lean into best customers.\n",
        "*   Regular Server Maintenance.\n",
        "\n",
        "*   Solving Poor Network Connectivity Issue.\n",
        "*   Define a roadmap for new customers.\n",
        "\n",
        "*   Analyze churn when it happens.\n",
        "*   Stay competitive."
      ],
      "metadata": {
        "id": "pASKb0qOza21"
      }
    },
    {
      "cell_type": "markdown",
      "source": [
        "# **Conclusion**"
      ],
      "metadata": {
        "id": "gCX9965dhzqZ"
      }
    },
    {
      "cell_type": "markdown",
      "source": [
        "Your summary of the insights gained from the churn dataset analysis is comprehensive and insightful. Here's a breakdown of the key findings:\n",
        "\n",
        "1. The charge fields are directly related to the minute fields, indicating a strong correlation between usage and charges.\n",
        "2. The relevance of the area code appears minimal and may be excluded from further analysis.\n",
        "3. Customers with the International Plan exhibit higher churn rates, suggesting dissatisfaction or other issues related to this plan.\n",
        "4. Customers who have had four or more customer service calls demonstrate significantly higher churn rates, highlighting the importance of addressing customer concerns effectively.\n",
        "5. High day and evening minute usage correlate with higher churn rates, indicating potential dissatisfaction or other factors influencing churn behavior.\n",
        "6. No clear relationship exists between churn and variables such as day calls, evening calls, night calls, international calls, night minutes, international minutes, account length, or voice mail messages, suggesting these factors may have minimal impact on churn.\n",
        "\n",
        "These insights provide valuable guidance for developing targeted retention strategies and addressing key drivers of churn in the telecommunications industry. By focusing on mitigating the identified risk factors and enhancing customer satisfaction, companies can improve retention rates and foster long-term customer loyalty."
      ],
      "metadata": {
        "id": "Fjb1IsQkh3yE"
      }
    },
    {
      "cell_type": "markdown",
      "source": [
        "### ***Hurrah! You have successfully completed your EDA Capstone Project !!!***"
      ],
      "metadata": {
        "id": "gIfDvo9L0UH2"
      }
    }
  ]
}