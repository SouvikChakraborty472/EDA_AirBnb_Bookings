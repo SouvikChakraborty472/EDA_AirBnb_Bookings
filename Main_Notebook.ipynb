{
  "nbformat": 4,
  "nbformat_minor": 0,
  "metadata": {
    "colab": {
      "private_outputs": true,
      "provenance": [],
      "collapsed_sections": [
        "MSa1f5Uengrz",
        "GF8Ens_Soomf",
        "0wOQAZs5pc--",
        "K5QZ13OEpz2H",
        "lQ7QKXXCp7Bj",
        "448CDAPjqfQr",
        "KSlN3yHqYklG",
        "t6dVpIINYklI",
        "ijmpgYnKYklI",
        "-JiQyfWJYklI",
        "EM7whBJCYoAo",
        "fge-S5ZAYoAp",
        "85gYPyotYoAp",
        "RoGjAbkUYoAp",
        "4Of9eVA-YrdM",
        "iky9q4vBYrdO",
        "F6T5p64dYrdO",
        "y-Ehk30pYrdP",
        "bamQiAODYuh1",
        "QHF8YVU7Yuh3",
        "GwzvFGzlYuh3",
        "qYpmQ266Yuh3",
        "OH-pJp9IphqM",
        "bbFf2-_FphqN",
        "_ouA3fa0phqN",
        "Seke61FWphqN",
        "PIIx-8_IphqN",
        "t27r6nlMphqO",
        "r2jJGEOYphqO",
        "b0JNsNcRphqO",
        "BZR9WyysphqO",
        "jj7wYXLtphqO",
        "eZrbJ2SmphqO",
        "rFu4xreNphqO",
        "YJ55k-q6phqO",
        "gCFgpxoyphqP",
        "OVtJsKN_phqQ",
        "lssrdh5qphqQ",
        "U2RJ9gkRphqQ",
        "1M8mcRywphqQ",
        "tgIPom80phqQ",
        "JMzcOPDDphqR",
        "x-EpHcCOp1ci",
        "X_VqEhTip1ck",
        "8zGJKyg5p1ck",
        "PVzmfK_Ep1ck",
        "n3dbpmDWp1ck",
        "ylSl6qgtp1ck",
        "ZWILFDl5p1ck",
        "M7G43BXep1ck",
        "Ag9LCva-p1cl",
        "E6MkPsBcp1cl",
        "2cELzS2fp1cl",
        "3MPXvC8up1cl",
        "NC_X3p0fY2L0",
        "UV0SzAkaZNRQ",
        "YPEH6qLeZNRQ",
        "q29F0dvdveiT",
        "EXh0U9oCveiU",
        "22aHeOlLveiV",
        "JcMwzZxoAimU",
        "8G2x9gOozGDZ",
        "gCX9965dhzqZ",
        "gIfDvo9L0UH2"
      ],
      "include_colab_link": true
    },
    "kernelspec": {
      "name": "python3",
      "display_name": "Python 3"
    },
    "language_info": {
      "name": "python"
    }
  },
  "cells": [
    {
      "cell_type": "markdown",
      "metadata": {
        "id": "view-in-github",
        "colab_type": "text"
      },
      "source": [
        "<a href=\"https://colab.research.google.com/github/SouvikChakraborty472/Exploratory_Data_Analysis/blob/main/EDA_AirBnb_Bookings.ipynb\" target=\"_parent\"><img src=\"https://colab.research.google.com/assets/colab-badge.svg\" alt=\"Open In Colab\"/></a>"
      ]
    },
    {
      "cell_type": "markdown",
      "source": [
        "# **Project Name**    - Exploratory Data Analysis of AirBnb Bookings\n",
        "\n"
      ],
      "metadata": {
        "id": "vncDsAP0Gaoa"
      }
    },
    {
      "cell_type": "markdown",
      "source": [
        "##### **Project Type**    - EDA/Regression/Classification/Unsupervised\n",
        "##### **Contribution**    - Individual/Team\n",
        "##### **Member -** Souvik Chakraborty\n"
      ],
      "metadata": {
        "id": "beRrZCGUAJYm"
      }
    },
    {
      "cell_type": "markdown",
      "source": [
        "# **Project Summary -**"
      ],
      "metadata": {
        "id": "FJNUwmbgGyua"
      }
    },
    {
      "cell_type": "markdown",
      "source": [
        "Since 2008, Airbnb has transformed travel by offering a unique and personalized way for guests and hosts to connect, enhancing the travel experience globally. Today, Airbnb is a widely recognized and utilized service worldwide.\n",
        "\n",
        "The millions of listings on Airbnb generate vast amounts of data, which are pivotal for the company. Analyzing this data is essential for:\n",
        "\n",
        "1. **Security**: Ensuring the safety of both guests and hosts by identifying and mitigating potential risks.\n",
        "2. **Business Decisions**: Informing strategic decisions to improve operations, expand services, and enhance user experience.\n",
        "3. **Understanding Behavior**: Gaining insights into the behaviors and preferences of both guests and hosts to tailor services and improve satisfaction.\n",
        "4. **Performance Analysis**: Assessing the performance of listings and hosts to identify best practices and areas for improvement.\n",
        "5. **Marketing Initiatives**: Guiding targeted marketing campaigns and promotional efforts to attract and retain users.\n",
        "6. **Innovative Services**: Implementing new and innovative services that add value to the platform and address user needs.\n",
        "\n",
        "Through comprehensive data analysis, Airbnb can continue to innovate, improve its offerings, and maintain its position as a leader in the travel and hospitality industry.\n",
        "\n",
        "This dataset contains approximately 49,000 observations with 16 columns, comprising both categorical and numeric values. This diverse data can provide a comprehensive overview of various aspects of Airbnb listings, allowing for detailed analysis and insights into trends, behaviors, and performance metrics across the platform."
      ],
      "metadata": {
        "id": "F6v_1wHtG2nS"
      }
    },
    {
      "cell_type": "markdown",
      "source": [
        "# **GitHub Link -**"
      ],
      "metadata": {
        "id": "w6K7xa23Elo4"
      }
    },
    {
      "cell_type": "markdown",
      "source": [
        "https://github.com/SouvikChakraborty472/Exploratory_Data_Analysis/blob/main/EDA_AirBnb_Bookings.ipynb"
      ],
      "metadata": {
        "id": "h1o69JH3Eqqn"
      }
    },
    {
      "cell_type": "markdown",
      "source": [
        "# **Problem Statement**\n"
      ],
      "metadata": {
        "id": "yQaldy8SH6Dl"
      }
    },
    {
      "cell_type": "markdown",
      "source": [
        "To explore and analyze the dataset effectively and answer the listed questions, we need to perform various data analysis and visualization techniques. Here's a step-by-step outline to tackle each question:\n",
        "\n",
        "1. What can we learn about different hosts and areas\n",
        "2. What can we learn from room type and their prices according to area?\n",
        "3. What can we learn from Data? (ex: locations, prices, reviews, etc)\n",
        "4. Which hosts are the busiest and why is the reason?\n",
        "5. Which Hosts are charging higher prices?\n",
        "6. Is there any traffic difference among different areas and what could be the reason for it?\n",
        "7. What is the correlation between different variables?\n",
        "8. What is the room count in overall NYC according to the listing of room types?"
      ],
      "metadata": {
        "id": "DpeJGUA3kjGy"
      }
    },
    {
      "cell_type": "markdown",
      "source": [
        "#### **Define Your Business Objective?**"
      ],
      "metadata": {
        "id": "PH-0ReGfmX4f"
      }
    },
    {
      "cell_type": "markdown",
      "source": [
        "### Business Objective\n",
        "\n",
        "The business objectives for enhancing Airbnb's operations, host performance, and customer satisfaction are as follows:\n",
        "\n",
        "1. **Develop Targeted Marketing Strategies:**\n",
        "   - Promote Manhattan listings as premium options for affluent travelers and business professionals.\n",
        "   - Highlight Brooklyn’s cultural appeal for younger travelers and solo adventurers.\n",
        "   - Emphasize affordability and unique local experiences in Queens and the Bronx.\n",
        "\n",
        "2. **Enhance Host Support and Development:**\n",
        "   - Provide Manhattan hosts with resources to maintain luxury standards.\n",
        "   - Assist Brooklyn hosts in marketing private rooms effectively.\n",
        "   - Guide Queens and Bronx hosts in emphasizing affordability and local charm.\n",
        "\n",
        "3. **Improve User Experience:**\n",
        "   - Enhance search functionality for better accommodation filtering.\n",
        "   - Implement personalized recommendations using machine learning algorithms.\n",
        "\n",
        "4. **Guide Investment and Property Development:**\n",
        "   - Offer insights to investors on demand trends for different room types and locations.\n",
        "   - Encourage the development of new properties in high-demand areas.\n",
        "\n",
        "5. **Enhance Customer Service:**\n",
        "   - Improve query resolution times and ensure prompt issue resolution.\n",
        "   - Provide proactive customer support to address potential issues early.\n",
        "\n",
        "6. **Implement Dynamic Pricing Strategies:**\n",
        "   - Use data analytics to optimize pricing based on demand, seasonality, and competition.\n",
        "   - Offer targeted discounts and promotions to attract guests during low-demand periods.\n",
        "\n",
        "7. **Establish Loyalty Programs:**\n",
        "   - Develop loyalty programs for repeat guests with benefits like discounts and priority bookings.\n",
        "   - Recognize and reward high-performing hosts with incentives and recognition.\n",
        "\n",
        "8. **Introduce Innovation and Additional Services:**\n",
        "   - Launch innovative services like curated local experiences and personalized travel itineraries.\n",
        "   - Explore additional revenue streams through travel insurance, local partnerships, and premium services.\n",
        "\n",
        "These objectives aim to strategically enhance Airbnb's market position, improve host and guest experiences, and drive growth through targeted initiatives and innovations.\n",
        "\n",
        "\n",
        "\n",
        "\n",
        "\n"
      ],
      "metadata": {
        "id": "PhDvGCAqmjP1"
      }
    },
    {
      "cell_type": "markdown",
      "source": [
        "# **General Guidelines** : -  "
      ],
      "metadata": {
        "id": "mDgbUHAGgjLW"
      }
    },
    {
      "cell_type": "markdown",
      "source": [
        "1.   Well-structured, formatted, and commented code is required.\n",
        "2.   Exception Handling, Production Grade Code & Deployment Ready Code will be a plus. Those students will be awarded some additional credits.\n",
        "     \n",
        "     The additional credits will have advantages over other students during Star Student selection.\n",
        "       \n",
        "             [ Note: - Deployment Ready Code is defined as, the whole .ipynb notebook should be executable in one go\n",
        "                       without a single error logged. ]\n",
        "\n",
        "3.   Each and every logic should have proper comments.\n",
        "4. You may add as many number of charts you want. Make Sure for each and every chart the following format should be answered.\n",
        "        \n",
        "\n",
        "```\n",
        "# Chart visualization code\n",
        "```\n",
        "            \n",
        "\n",
        "*   Why did you pick the specific chart?\n",
        "*   What is/are the insight(s) found from the chart?\n",
        "* Will the gained insights help creating a positive business impact?\n",
        "Are there any insights that lead to negative growth? Justify with specific reason.\n",
        "\n",
        "5. You have to create at least 20 logical & meaningful charts having important insights.\n",
        "\n",
        "\n",
        "[ Hints : - Do the Vizualization in  a structured way while following \"UBM\" Rule.\n",
        "\n",
        "U - Univariate Analysis,\n",
        "\n",
        "B - Bivariate Analysis (Numerical - Categorical, Numerical - Numerical, Categorical - Categorical)\n",
        "\n",
        "M - Multivariate Analysis\n",
        " ]\n",
        "\n",
        "\n",
        "\n"
      ],
      "metadata": {
        "id": "ZrxVaUj-hHfC"
      }
    },
    {
      "cell_type": "markdown",
      "source": [
        "# ***Let's Begin !***"
      ],
      "metadata": {
        "id": "O_i_v8NEhb9l"
      }
    },
    {
      "cell_type": "markdown",
      "source": [
        "## ***1. Know Your Data***"
      ],
      "metadata": {
        "id": "HhfV-JJviCcP"
      }
    },
    {
      "cell_type": "markdown",
      "source": [
        "### Import Libraries"
      ],
      "metadata": {
        "id": "Y3lxredqlCYt"
      }
    },
    {
      "cell_type": "code",
      "source": [
        "# Import Libraries\n",
        "import pandas as pd\n",
        "import seaborn as sns\n",
        "import matplotlib.pyplot as plt\n",
        "%matplotlib inline"
      ],
      "metadata": {
        "id": "M8Vqi-pPk-HR"
      },
      "execution_count": null,
      "outputs": []
    },
    {
      "cell_type": "markdown",
      "source": [
        "### Dataset Loading"
      ],
      "metadata": {
        "id": "3RnN4peoiCZX"
      }
    },
    {
      "cell_type": "code",
      "source": [
        "# Mount Drive\n",
        "from google.colab import drive\n",
        "drive.mount('/content/drive')"
      ],
      "metadata": {
        "id": "4CkvbW_SlZ_R"
      },
      "execution_count": null,
      "outputs": []
    },
    {
      "cell_type": "code",
      "source": [
        "# Load Dataset\n",
        "file_path = '/content/drive/My Drive/AirbnbNYC.csv'\n",
        "# Load the CSV file\n",
        "df = pd.read_csv(file_path)\n",
        "df"
      ],
      "metadata": {
        "id": "UZ6tK5Ulujx4"
      },
      "execution_count": null,
      "outputs": []
    },
    {
      "cell_type": "markdown",
      "source": [
        "### Dataset First View"
      ],
      "metadata": {
        "id": "x71ZqKXriCWQ"
      }
    },
    {
      "cell_type": "code",
      "source": [
        "# Dataset First Look\n",
        "df.head()"
      ],
      "metadata": {
        "id": "LWNFOSvLl09H"
      },
      "execution_count": null,
      "outputs": []
    },
    {
      "cell_type": "markdown",
      "source": [
        "### Dataset Rows & Columns count"
      ],
      "metadata": {
        "id": "7hBIi_osiCS2"
      }
    },
    {
      "cell_type": "code",
      "source": [
        "# Dataset Rows & Columns count\n",
        "num_rows, num_columns = df.shape\n",
        "\n",
        "print(\"Number of rows:\", num_rows)\n",
        "print(\"Number of columns:\", num_columns)"
      ],
      "metadata": {
        "id": "Kllu7SJgmLij"
      },
      "execution_count": null,
      "outputs": []
    },
    {
      "cell_type": "markdown",
      "source": [
        "### Dataset Information"
      ],
      "metadata": {
        "id": "JlHwYmJAmNHm"
      }
    },
    {
      "cell_type": "code",
      "source": [
        "# Dataset Info\n",
        "df.info()"
      ],
      "metadata": {
        "id": "e9hRXRi6meOf"
      },
      "execution_count": null,
      "outputs": []
    },
    {
      "cell_type": "markdown",
      "source": [
        "#### Duplicate Values"
      ],
      "metadata": {
        "id": "35m5QtbWiB9F"
      }
    },
    {
      "cell_type": "code",
      "source": [
        "# Dataset Duplicate Value Count\n",
        "num_duplicates = df.duplicated().sum()\n",
        "print(\"Number of duplicates:\", num_duplicates)"
      ],
      "metadata": {
        "id": "1sLdpKYkmox0"
      },
      "execution_count": null,
      "outputs": []
    },
    {
      "cell_type": "markdown",
      "source": [
        "#### Missing Values/Null Values"
      ],
      "metadata": {
        "id": "PoPl-ycgm1ru"
      }
    },
    {
      "cell_type": "code",
      "source": [
        "# Missing Values/Null Values Count\n",
        "df.isnull().sum()"
      ],
      "metadata": {
        "id": "GgHWkxvamxVg"
      },
      "execution_count": null,
      "outputs": []
    },
    {
      "cell_type": "code",
      "source": [
        "# Filling missing values\n",
        "df['name'].fillna('Absent', inplace = True)\n",
        "df['host_name'].fillna('Absent', inplace =  True)"
      ],
      "metadata": {
        "id": "9v4Pe58GJfUm"
      },
      "execution_count": null,
      "outputs": []
    },
    {
      "cell_type": "code",
      "source": [
        "# Visualizing the missing values\n",
        "sns.heatmap(df.isnull())"
      ],
      "metadata": {
        "id": "3q5wnI3om9sJ"
      },
      "execution_count": null,
      "outputs": []
    },
    {
      "cell_type": "markdown",
      "source": [
        "### What did you know about your dataset?"
      ],
      "metadata": {
        "id": "H0kj-8xxnORC"
      }
    },
    {
      "cell_type": "markdown",
      "source": [
        "The Airbnb dataset, consisting of around 48,895 observations and 16 columns, is a valuable resource for data analysis. It contains a mix of both categorical and numeric data. This dataset helps them make informed decisions regarding security, business strategies, customer and host behavior, and platform performance. Through this data, I understand the gains insights that guide marketing efforts, the development of new services, and more. It is a rich source of information for understanding and optimizing the Airbnb experience for both guests and hosts, contributing to the global recognition of Airbnb as a unique and personalized travel service since 2008."
      ],
      "metadata": {
        "id": "gfoNAAC-nUe_"
      }
    },
    {
      "cell_type": "markdown",
      "source": [
        "## ***2. Understanding Your Variables***"
      ],
      "metadata": {
        "id": "nA9Y7ga8ng1Z"
      }
    },
    {
      "cell_type": "code",
      "source": [
        "# Dataset Columns\n",
        "df.columns"
      ],
      "metadata": {
        "id": "j7xfkqrt5Ag5"
      },
      "execution_count": null,
      "outputs": []
    },
    {
      "cell_type": "code",
      "source": [
        "df.drop(['latitude','longitude','last_review','reviews_per_month'],axis=1,inplace=True)"
      ],
      "metadata": {
        "id": "gH7HcTf3NSOv"
      },
      "execution_count": null,
      "outputs": []
    },
    {
      "cell_type": "code",
      "source": [
        "# Dataset Describe\n",
        "df.describe()"
      ],
      "metadata": {
        "id": "DnOaZdaE5Q5t"
      },
      "execution_count": null,
      "outputs": []
    },
    {
      "cell_type": "markdown",
      "source": [
        "The summary statistics shows us that the average price is 152.72, the average minimum nights stay is 7.03 nights, and the average number of reviews is 23.27 per listing. We also learn that a host has an average of 7.14 places listed and availability averages 112.78 vacant days per year.\n",
        "\n",
        "Most importantly, the min price is showing as zero and the max price as 10,000. Something isn't right with the data, so need to look into this issue and check for outliers."
      ],
      "metadata": {
        "id": "tjkuWIvIOp_f"
      }
    },
    {
      "cell_type": "code",
      "source": [
        "# Checking for outliers\n",
        "df.agg({'price':['mean','median','max','count']})"
      ],
      "metadata": {
        "id": "PvxMq_yvObF_"
      },
      "execution_count": null,
      "outputs": []
    },
    {
      "cell_type": "markdown",
      "source": [
        "The minimum value is set as zero, which does not make any sense since there are no free rooms on Airbnb - and the maximum value is set 10,000 - which just seems too high. Notice how the mean is considerably higher than the median. This is an indication that the data is skewed.\n",
        "\n",
        "Let's use a boxplot to get a better understanding of price distribution:"
      ],
      "metadata": {
        "id": "9uvtWZmLPlr-"
      }
    },
    {
      "cell_type": "code",
      "source": [
        "#Plotting the boxplot of the price data.\n",
        "plt.figure(figsize=(10,5))\n",
        "ax = sns.boxplot(y='price', data=df).set_title('Price Distribution by neighbourhood group')\n",
        "sns.set_theme(style='white')\n",
        "plt.xlabel('Neighbourhood')\n",
        "plt.ylabel('Price')\n",
        "plt.show()"
      ],
      "metadata": {
        "id": "AnxAPfWEQVvL"
      },
      "execution_count": null,
      "outputs": []
    },
    {
      "cell_type": "code",
      "source": [
        "# As expected there are outliers present in the data.\n",
        "# In order to fix this, we will be using the quantile based flooring and capping.\n",
        "# First, let's print the 10th and 90th percentile of the price column.\n",
        "# low quantile\n",
        "q_low = df['price'].quantile(0.10)\n",
        "print(q_low)\n",
        "#high quantile\n",
        "q_high = df['price'].quantile(0.9)\n",
        "print(q_high)\n"
      ],
      "metadata": {
        "id": "DMVg29XyQfiI"
      },
      "execution_count": null,
      "outputs": []
    },
    {
      "cell_type": "markdown",
      "source": [
        "Looks like the 10th percentile is 49USD and the 90th percentile is 269USD. Since we are dealing with Airbnb listings, it is not uncommon for a few places to be much more expensive than others, especially luxurious ones.\n",
        "\n",
        "Given that we are going to perform calculations in our data and the mean can be skewed by outliers, let's go ahead and implement the above technique by removing the values that don't apply to the specified range – set between 49USD and 269USD."
      ],
      "metadata": {
        "id": "SWNf7Tt9Ru-1"
      }
    },
    {
      "cell_type": "code",
      "source": [
        "#removing the values below 10th percentile and above 90th percentile\n",
        "df = df.drop(df[df['price']<q_low].index)\n",
        "df = df.drop(df[df['price']>q_high].index)"
      ],
      "metadata": {
        "id": "Iy_XyPqCRx5N"
      },
      "execution_count": null,
      "outputs": []
    },
    {
      "cell_type": "code",
      "source": [
        "#Lets create a new boxplot and check the result.\n",
        "plt.figure(figsize=(10,5))\n",
        "ax = sns.boxplot(y='price', data=df).set_title('Price Distribution')\n",
        "sns.set_theme(style='white')\n",
        "plt.ylabel('Price')\n",
        "plt.show()"
      ],
      "metadata": {
        "id": "XGJEFDNKSClk"
      },
      "execution_count": null,
      "outputs": []
    },
    {
      "cell_type": "markdown",
      "source": [
        "### Check Unique Values for each variable."
      ],
      "metadata": {
        "id": "u3PMJOP6ngxN"
      }
    },
    {
      "cell_type": "code",
      "source": [
        "# Check Unique Values for each variable.\n",
        "for i in df.columns:\n",
        "  print(\"No. of unique values in \",i,\"is\",df[i].nunique())"
      ],
      "metadata": {
        "id": "zms12Yq5n-jE"
      },
      "execution_count": null,
      "outputs": []
    },
    {
      "cell_type": "markdown",
      "source": [
        "## 3. ***Data Wrangling***"
      ],
      "metadata": {
        "id": "dauF4eBmngu3"
      }
    },
    {
      "cell_type": "markdown",
      "source": [
        "### Data Wrangling Code"
      ],
      "metadata": {
        "id": "bKJF3rekwFvQ"
      }
    },
    {
      "cell_type": "code",
      "source": [
        "# Highest number o host listing as per neighbourhood\n",
        "host_areas =df.groupby(['host_name','neighbourhood_group'])['calculated_host_listings_count'].max().reset_index()\n",
        "host_areas.sort_values(by='calculated_host_listings_count',ascending=False)"
      ],
      "metadata": {
        "id": "wk-9a2fpoLcV"
      },
      "execution_count": null,
      "outputs": []
    },
    {
      "cell_type": "markdown",
      "source": [
        "We find that Host name Sonder(NYC) has listed highest number of listings in Manhattan followed by Blueground"
      ],
      "metadata": {
        "id": "l4X4xFFmlNAz"
      }
    },
    {
      "cell_type": "code",
      "source": [
        "# Room type & their prices according to area\n",
        "room_price_area_wise = df.groupby(['neighbourhood_group','room_type'])['price'].max().reset_index()\n",
        "room_price_area_wise.sort_values(by='price', ascending=False)"
      ],
      "metadata": {
        "id": "LioVrO31l-n1"
      },
      "execution_count": null,
      "outputs": []
    },
    {
      "cell_type": "code",
      "source": [
        "# Number of reviews obtained by neighbourhood\n",
        "area_reviews = df.groupby(['neighbourhood_group'])['number_of_reviews'].max().reset_index()\n",
        "area_reviews"
      ],
      "metadata": {
        "id": "39JEq1UhnHwx"
      },
      "execution_count": null,
      "outputs": []
    },
    {
      "cell_type": "code",
      "source": [
        "# Busiest hosts according to prefered room type\n",
        "busy_hosts = df.groupby(['host_id','host_name','room_type'])['number_of_reviews'].max().reset_index()\n",
        "busy_hosts = busy_hosts.sort_values(by = 'number_of_reviews', ascending =False).head(20)\n",
        "busy_hosts"
      ],
      "metadata": {
        "id": "1OhzW6wsn9EF"
      },
      "execution_count": null,
      "outputs": []
    },
    {
      "cell_type": "code",
      "source": [
        "# Hosts charging high\n",
        "Highest_price= df.groupby(['host_id','host_name','room_type','neighbourhood_group'])['price'].max().reset_index()\n",
        "Highest_price= Highest_price.sort_values(by = 'price', ascending =False).head(20)\n",
        "Highest_price"
      ],
      "metadata": {
        "id": "L2EKuvj5oh0S"
      },
      "execution_count": null,
      "outputs": []
    },
    {
      "cell_type": "code",
      "source": [
        "# Area prefered as night stay\n",
        "traffic_areas = df.groupby(['neighbourhood_group','room_type'])['minimum_nights'].count().reset_index()\n",
        "traffic_areas = traffic_areas.sort_values(by ='minimum_nights',ascending = False).head(10)\n",
        "traffic_areas"
      ],
      "metadata": {
        "id": "zONa-6hzpMzi"
      },
      "execution_count": null,
      "outputs": []
    },
    {
      "cell_type": "code",
      "source": [
        "price_area = df.groupby(['price'])['number_of_reviews'].max().reset_index()\n",
        "price_area.head(10)"
      ],
      "metadata": {
        "id": "GspsT9JED7B3"
      },
      "execution_count": null,
      "outputs": []
    },
    {
      "cell_type": "markdown",
      "source": [
        "### What all manipulations have you done and insights you found?"
      ],
      "metadata": {
        "id": "MSa1f5Uengrz"
      }
    },
    {
      "cell_type": "markdown",
      "source": [
        "1. **Top Hosts in Manhattan:**\n",
        "   - **Sonder(NYC)**: Highest number of listings.\n",
        "   - **Blueground**: Second highest number of listings.\n",
        "\n",
        "2. **Preferred Room Types:**\n",
        "   - **Entire home/apt**: Highest number of listings overall.\n",
        "   - **Price Trends**: Higher prices for entire home/apartments in Brooklyn and Manhattan.\n",
        "\n",
        "3. **Guest Preferences:**\n",
        "   - Guests prefer lower-priced listings with higher reviews.\n",
        "   - Areas with high preference: Manhattan, Brooklyn, and Queens.\n",
        "\n",
        "4. **Busiest Hosts:**\n",
        "   1. Dona\n",
        "   2. Ji\n",
        "   3. Maya\n",
        "   4. Carol\n",
        "   5. Danielle\n",
        "\n",
        "   - These hosts list room types like Entire home and Private room, which are highly preferred and have higher reviews.\n",
        "\n",
        "5. **Hosts Charging Maximum Prices:**\n",
        "   - Hosts: Jelena, Kathrine, Erin, Matt, Olson, Amy, Rum, Jessica, Sally, Jack\n",
        "   - Maximum price listed: $10,000 USD\n",
        "\n",
        "### Key Insights\n",
        "- **Most Preferred Room Types**: Entire home and Private room.\n",
        "- **Popular Areas**: Manhattan, Brooklyn, and Queens.\n",
        "- **Guest Behavior**: Favor lower-priced listings with higher reviews.\n",
        "\n",
        "This summary provides an overview of host activities, pricing trends, and guest preferences in the Airbnb market of NYC."
      ],
      "metadata": {
        "id": "LbyXE7I1olp8"
      }
    },
    {
      "cell_type": "markdown",
      "source": [
        "## ***4. Data Vizualization, Storytelling & Experimenting with charts : Understand the relationships between variables***"
      ],
      "metadata": {
        "id": "GF8Ens_Soomf"
      }
    },
    {
      "cell_type": "markdown",
      "source": [
        "#### Chart - 1 Room count in NYC according to Room type"
      ],
      "metadata": {
        "id": "0wOQAZs5pc--"
      }
    },
    {
      "cell_type": "code",
      "source": [
        "plt.rcParams['figure.figsize'] = (8, 5)\n",
        "ax= sns.countplot(y='room_type',hue='neighbourhood_group',data=df,palette='bright')\n",
        "\n",
        "total = len(df['room_type'])\n",
        "for p in ax.patches:\n",
        "        percentage = '{:.1f}%'.format(100 * p.get_width()/total)\n",
        "        x = p.get_x() + p.get_width() + 0.02\n",
        "        y = p.get_y() + p.get_height()/2\n",
        "        ax.annotate(percentage, (x, y))\n",
        "\n",
        "plt.title('Count of each room types in NYC')\n",
        "plt.xlabel('Rooms')\n",
        "plt.xticks(rotation=90)\n",
        "plt.ylabel('Room Counts')\n",
        "\n",
        "plt.show()"
      ],
      "metadata": {
        "id": "7v_ESjsspbW7"
      },
      "execution_count": null,
      "outputs": []
    },
    {
      "cell_type": "markdown",
      "source": [
        "##### 1. Why did you pick the specific chart?"
      ],
      "metadata": {
        "id": "K5QZ13OEpz2H"
      }
    },
    {
      "cell_type": "markdown",
      "source": [
        "Comparison: They allow for quick comparison between different categories. For example, you can easily see which category is the most or least frequent."
      ],
      "metadata": {
        "id": "XESiWehPqBRc"
      }
    },
    {
      "cell_type": "markdown",
      "source": [
        "##### 2. What is/are the insight(s) found from the chart?"
      ],
      "metadata": {
        "id": "lQ7QKXXCp7Bj"
      }
    },
    {
      "cell_type": "markdown",
      "source": [
        "Manhattan has more listed properties with Entire home/apt around 27% of total listed properties followed by Brooklyn with around 19.6%.\n",
        "\n",
        "Private rooms are more in Brooklyn as in 20.7% of the total listed properties followed by Manhattan with 16.3% of them. While 6.9% of private rooms are from Queens.\n",
        "\n",
        "We can infer that Brooklyn,Queens,Bronx has more private room types while Manhattan which has the highest no of listings in entire NYC has more Entire home/apt room types."
      ],
      "metadata": {
        "id": "C_j1G7yiqdRP"
      }
    },
    {
      "cell_type": "markdown",
      "source": [
        "##### 3. Will the gained insights help creating a positive business impact?\n",
        "Are there any insights that lead to negative growth? Justify with specific reason."
      ],
      "metadata": {
        "id": "448CDAPjqfQr"
      }
    },
    {
      "cell_type": "markdown",
      "source": [
        "Targeted Marketing Campaigns\n",
        "\n",
        "Manhattan:\n",
        "\n",
        "Luxury and Privacy: Market Manhattan listings as luxury options that offer entire homes/apartments for travelers seeking privacy and exclusivity. Highlight the unique, high-end experiences available in Manhattan.\n",
        "Corporate Stays: Promote entire homes/apartments for business travelers who may prefer the convenience and privacy of having an entire space.\n",
        "\n",
        "Brooklyn:\n",
        "\n",
        "Community and Culture: Emphasize Brooklyn's cultural vibrancy and the communal experience of staying in private rooms. Target young travelers, solo adventurers, and budget-conscious guests.\n",
        "Extended Stays: Position private rooms as ideal for longer stays, offering a home-like environment in a trendy neighborhood.\n",
        "\n",
        "Queens and Bronx:\n",
        "\n",
        "Affordability and Local Experience: Highlight the affordability and local charm of private rooms in Queens and the Bronx. Market these areas to travelers seeking a more authentic, local experience at a lower cost.\n"
      ],
      "metadata": {
        "id": "3cspy4FjqxJW"
      }
    },
    {
      "cell_type": "markdown",
      "source": [
        "#### Chart - 2 Price distribution by neighbourhood gropus"
      ],
      "metadata": {
        "id": "KSlN3yHqYklG"
      }
    },
    {
      "cell_type": "code",
      "source": [
        "# price distribution by neighbourhood gropus\n",
        "plt.figure(figsize=(12,8))\n",
        "ax = sns.violinplot(x=\"neighbourhood_group\", y=\"price\", data=df).set_title('Price Distribution by neighbourhood groups')\n",
        "plt.show()"
      ],
      "metadata": {
        "id": "R4YgtaqtYklH"
      },
      "execution_count": null,
      "outputs": []
    },
    {
      "cell_type": "markdown",
      "source": [
        "##### 1. Why did you pick the specific chart?"
      ],
      "metadata": {
        "id": "t6dVpIINYklI"
      }
    },
    {
      "cell_type": "markdown",
      "source": [
        "Violin plots are used in data visualization for several reasons:\n",
        "\n",
        "1. **Combining Box Plot and Density Plot Features**: Violin plots combine the features of a box plot and a kernel density plot. This allows for a comprehensive visualization that shows both the summary statistics (like median, interquartile range, etc.) and the distribution shape of the data.\n",
        "\n",
        "2. **Visualizing Distribution Shape**: Unlike box plots, which only provide summary statistics, violin plots show the full distribution of the data, including multimodal distributions. This makes it easier to see where the data is concentrated and if there are any gaps or unusual patterns.\n",
        "\n",
        "3. **Comparing Multiple Distributions**: Violin plots are particularly useful for comparing the distributions of multiple groups or categories. The side-by-side nature of violins makes it straightforward to compare shapes, centers, and spreads of different distributions.\n",
        "\n",
        "4. **Handling Large Data Sets**: For large data sets, violin plots can provide a clearer and more informative summary of the data distribution compared to histograms or scatter plots, which can become cluttered.\n",
        "\n",
        "5. **Identifying Outliers and Skewness**: The shape of the violin can help identify outliers, skewness, and the modality of the data. This can be more informative than the limited outlier information provided by box plots alone.\n",
        "\n",
        "### When to Use Violin Plots\n",
        "\n",
        "- When you need to visualize the distribution of a continuous variable.\n",
        "- When comparing the distributions of a continuous variable across different categories or groups.\n",
        "- When you want to understand the density and distribution shape along with summary statistics.\n",
        "- When dealing with complex distributions that are not well represented by box plots or histograms alone.\n",
        "\n",
        "### Example Use Cases\n",
        "\n",
        "- **Comparing Test Scores**: Visualizing the distribution of test scores across different classes or schools.\n",
        "- **Gene Expression Data**: Showing the distribution of gene expression levels across different conditions or experiments.\n",
        "- **Financial Data**: Comparing the distribution of returns for different stocks or financial instruments.\n",
        "\n",
        "In summary, violin plots are a powerful tool for visualizing data distributions and comparing multiple groups, providing a detailed view that combines the strengths of both box plots and density plots."
      ],
      "metadata": {
        "id": "5aaW0BYyYklI"
      }
    },
    {
      "cell_type": "markdown",
      "source": [
        "##### 2. What is/are the insight(s) found from the chart?"
      ],
      "metadata": {
        "id": "ijmpgYnKYklI"
      }
    },
    {
      "cell_type": "markdown",
      "source": [
        "we can see that Manhattan has a higher price range and is the most expensive one. Brooklyn has the second-highest rental prices, while the Bronx appears as the most affordable one."
      ],
      "metadata": {
        "id": "PSx9atu2YklI"
      }
    },
    {
      "cell_type": "markdown",
      "source": [
        "##### 3. Will the gained insights help creating a positive business impact?\n",
        "Are there any insights that lead to negative growth? Justify with specific reason."
      ],
      "metadata": {
        "id": "-JiQyfWJYklI"
      }
    },
    {
      "cell_type": "markdown",
      "source": [
        "Tailored Marketing Strategies\n",
        "\n",
        "Manhattan:\n",
        "\n",
        "Luxury Market: Focus marketing efforts on promoting the luxury and exclusivity of Manhattan listings. Highlight the premium experiences and amenities available in this borough to attract high-end travelers.\n",
        "Business Travelers: Target business travelers who may be willing to pay a premium for proximity to corporate offices and business hubs.\n",
        "\n",
        "Brooklyn:\n",
        "\n",
        "Cultural Appeal: Emphasize the cultural attractions, trendy neighborhoods, and unique experiences in Brooklyn. Promote it as a slightly more affordable yet exciting alternative to Manhattan.\n",
        "Young Professionals: Target young professionals and creatives who are drawn to Brooklyn's vibrant scene and are willing to pay for a mid-range price.\n",
        "\n",
        "Bronx:\n",
        "\n",
        "Budget-Friendly Options: Market the Bronx as a budget-friendly option for families, long-term stays, and budget-conscious travelers. Highlight the value for money and affordability of this borough.\n",
        "Local Experiences: Promote local attractions and unique experiences in the Bronx that offer a different perspective of New York City."
      ],
      "metadata": {
        "id": "BcBbebzrYklV"
      }
    },
    {
      "cell_type": "markdown",
      "source": [
        "#### Chart - 3 Correlation between different variables"
      ],
      "metadata": {
        "id": "EM7whBJCYoAo"
      }
    },
    {
      "cell_type": "code",
      "source": [
        "# Chart - 3 Visualizing code of histogram plot & boxplot for each columns to know the data distribution\n",
        "numerical_df = df.select_dtypes(include=['number'])\n",
        "\n",
        "corr = numerical_df.corr(method=\"kendall\")\n",
        "fig = plt.figure(figsize=(12, 6))\n",
        "sns.heatmap(corr, annot=True)\n",
        "plt.show()\n",
        "df.columns"
      ],
      "metadata": {
        "id": "t6GMdE67YoAp"
      },
      "execution_count": null,
      "outputs": []
    },
    {
      "cell_type": "markdown",
      "source": [
        "##### 1. Why did you pick the specific chart?"
      ],
      "metadata": {
        "id": "fge-S5ZAYoAp"
      }
    },
    {
      "cell_type": "markdown",
      "source": [
        "Histograms are used for several important reasons in data analysis and statistics:\n",
        "\n",
        "1. **Visualizing Data Distribution**: Histograms provide a visual representation of the distribution of a dataset. By displaying the frequency of data points within specified ranges (bins), they make it easier to understand the shape, central tendency, and spread of the data.\n",
        "\n",
        "2. **Identifying Patterns**: They help identify patterns such as skewness (whether the data is skewed to the left or right), modality (the number of peaks in the data), and the presence of outliers.\n",
        "\n",
        "3. **Summarizing Large Data Sets**: When dealing with large datasets, histograms condense the information into a more manageable form, allowing for quick insights into the general trends and characteristics of the data.\n",
        "\n",
        "4. **Comparing Different Datasets**: By comparing histograms of different datasets, one can easily see differences in distributions, such as shifts in central tendency, differences in variability, or changes in the shape of the distribution.\n",
        "\n",
        "5. **Supporting Decision Making**: In fields such as quality control, finance, and research, histograms are essential tools for making informed decisions based on data analysis. They help identify whether data meets expected distributions or standards.\n",
        "\n",
        "6. **Detecting Anomalies**: Histograms can highlight unexpected deviations from an expected distribution, which may indicate errors, anomalies, or unique events within the data.\n",
        "\n",
        "7. **Communicating Data Insights**: They are a straightforward way to communicate complex data insights to others, including those who may not have a strong statistical background. The visual nature of histograms makes it easier to explain and understand data patterns.\n",
        "\n",
        "Overall, histograms are a fundamental tool in exploratory data analysis, allowing analysts to quickly and effectively summarize, understand, and communicate the underlying structure of data."
      ],
      "metadata": {
        "id": "5dBItgRVYoAp"
      }
    },
    {
      "cell_type": "markdown",
      "source": [
        "##### 2. What is/are the insight(s) found from the chart?"
      ],
      "metadata": {
        "id": "85gYPyotYoAp"
      }
    },
    {
      "cell_type": "markdown",
      "source": [
        "We have seen all the correlation between different variables"
      ],
      "metadata": {
        "id": "4jstXR6OYoAp"
      }
    },
    {
      "cell_type": "markdown",
      "source": [
        "##### 3. Will the gained insights help creating a positive business impact?\n",
        "Are there any insights that lead to negative growth? Justify with specific reason."
      ],
      "metadata": {
        "id": "RoGjAbkUYoAp"
      }
    },
    {
      "cell_type": "markdown",
      "source": [
        "Correlation analysis is a powerful statistical tool that can provide valuable insights for business development. Understanding the correlation between different variables can help a business grow and make informed decisions"
      ],
      "metadata": {
        "id": "zfJ8IqMcYoAp"
      }
    },
    {
      "cell_type": "markdown",
      "source": [
        "#### Chart - 4 Traffic based on minimum nights booked"
      ],
      "metadata": {
        "id": "4Of9eVA-YrdM"
      }
    },
    {
      "cell_type": "code",
      "source": [
        "areas_Traffic = traffic_areas['room_type']\n",
        "room_stayed = traffic_areas['minimum_nights']\n",
        "\n",
        "fig = plt.figure(figsize =(7,5))\n",
        "\n",
        "plt.bar(areas_Traffic,room_stayed, color =\"blue\", width = 0.2)\n",
        "\n",
        "plt.xlabel(\"Room Type\")\n",
        "plt.ylabel(\"Minimum Night\")\n",
        "plt.title(\"Traffic Areas based on Minimum Nights Booked\")\n",
        "plt.show()"
      ],
      "metadata": {
        "id": "irlUoxc8YrdO"
      },
      "execution_count": null,
      "outputs": []
    },
    {
      "cell_type": "markdown",
      "source": [
        "##### 1. Why did you pick the specific chart?"
      ],
      "metadata": {
        "id": "iky9q4vBYrdO"
      }
    },
    {
      "cell_type": "markdown",
      "source": [
        "Highlighting Trends: When bars are ordered in a meaningful way (e.g., ascending or descending order, or by category), bar plots can help highlight trends or patterns in the data."
      ],
      "metadata": {
        "id": "aJRCwT6DYrdO"
      }
    },
    {
      "cell_type": "markdown",
      "source": [
        "##### 2. What is/are the insight(s) found from the chart?"
      ],
      "metadata": {
        "id": "F6T5p64dYrdO"
      }
    },
    {
      "cell_type": "markdown",
      "source": [
        "### Insights on Room Preferences and Locations\n",
        "\n",
        "Our analysis reveals the following key insights about Airbnb guests' preferences:\n",
        "\n",
        "1. **Preferred Room Types**:\n",
        "    - **Entire Home/Apartments** and **Private Rooms** are the most preferred room types among guests.\n",
        "\n",
        "2. **Popular Locations**:\n",
        "    - The most popular locations where these preferred room types are listed are **Manhattan**, **Brooklyn**, and **Queens**.\n",
        "\n",
        "3. **Pricing Preferences**:\n",
        "    - Guests tend to favor listings with lower prices, indicating price sensitivity in their booking decisions.\n"
      ],
      "metadata": {
        "id": "Xx8WAJvtYrdO"
      }
    },
    {
      "cell_type": "markdown",
      "source": [
        "##### 3. Will the gained insights help creating a positive business impact?\n",
        "Are there any insights that lead to negative growth? Justify with specific reason."
      ],
      "metadata": {
        "id": "y-Ehk30pYrdP"
      }
    },
    {
      "cell_type": "markdown",
      "source": [
        "These insights can significantly help Airbnb in optimizing their business strategies:\n",
        "\n",
        "1. Focus on Preferred Room Types\n",
        "Encouraging Listings: Airbnb can encourage more hosts to list entire homes and private rooms, especially in high-demand areas like Manhattan, Brooklyn, and Queens.\n",
        "Quality Assurance: Implementing quality assurance measures for these room types to ensure they meet guest expectations, which can lead to higher satisfaction and repeat bookings.\n",
        "2. Geographic Targeting\n",
        "Marketing Campaigns: Airbnb can tailor marketing campaigns to promote listings in Manhattan, Brooklyn, and Queens, highlighting the availability of entire homes and private rooms.\n",
        "Balancing Supply and Demand: Encouraging hosts in less popular areas to improve their listings or offer competitive pricing can help balance demand across different locations."
      ],
      "metadata": {
        "id": "jLNxxz7MYrdP"
      }
    },
    {
      "cell_type": "markdown",
      "source": [
        "#### Chart - 5 Busiest host in terms of reviews"
      ],
      "metadata": {
        "id": "bamQiAODYuh1"
      }
    },
    {
      "cell_type": "code",
      "source": [
        "name_hosts = busy_hosts['host_name']\n",
        "review_got = busy_hosts['number_of_reviews']\n",
        "\n",
        "fig = plt.figure(figsize =(20,5))\n",
        "\n",
        "plt.bar(name_hosts,review_got, color ='purple', width =0.5)\n",
        "plt.xlabel('Name of the Host')\n",
        "plt.ylabel('Review')\n",
        "plt.title(\"Busiest Host in terms of reviews\")\n",
        "plt.show()"
      ],
      "metadata": {
        "id": "TIJwrbroYuh3"
      },
      "execution_count": null,
      "outputs": []
    },
    {
      "cell_type": "markdown",
      "source": [
        "##### 1. Why did you pick the specific chart?"
      ],
      "metadata": {
        "id": "QHF8YVU7Yuh3"
      }
    },
    {
      "cell_type": "markdown",
      "source": [
        "Comparative Analysis: Grouped or stacked bar plots allow for the comparison of sub-categories within each main category. This is useful for more detailed analysis where comparisons between different sub-groups are needed."
      ],
      "metadata": {
        "id": "dcxuIMRPYuh3"
      }
    },
    {
      "cell_type": "markdown",
      "source": [
        "##### 2. What is/are the insight(s) found from the chart?"
      ],
      "metadata": {
        "id": "GwzvFGzlYuh3"
      }
    },
    {
      "cell_type": "markdown",
      "source": [
        "We have identified the busiest hosts on Airbnb based on their room types and the number of reviews they have received. The top hosts are:\n",
        "\n",
        "1. Dona\n",
        "2. Ji\n",
        "3. Maya\n",
        "4. Carol\n",
        "5. Danielle\n",
        "\n",
        "Reasons for Their Success\n",
        "Preferred Room Types: These hosts primarily list their properties as either \"Entire home\" or \"Private room,\" which are the most preferred room types among Airbnb users. This preference is likely contributing to their high booking rates and busy schedules.\n",
        "\n",
        "High Number of Reviews: These hosts also have a significant number of reviews, indicating that they have had many guests and likely provide a satisfactory experience that encourages guests to leave feedback."
      ],
      "metadata": {
        "id": "uyqkiB8YYuh3"
      }
    },
    {
      "cell_type": "markdown",
      "source": [
        "##### 3. Will the gained insights help creating a positive business impact?\n",
        "Are there any insights that lead to negative growth? Justify with specific reason."
      ],
      "metadata": {
        "id": "qYpmQ266Yuh3"
      }
    },
    {
      "cell_type": "markdown",
      "source": [
        "Understanding why these hosts are so successful can provide several actionable insights for Airbnb and other hosts on the platform:\n",
        "\n",
        "Encouraging Preferred Room Types: Airbnb can encourage more hosts to list entire homes and private rooms, particularly in high-demand areas. This could increase booking rates and overall satisfaction.\n",
        "\n",
        "Highlighting Successful Hosts: Airbnb can use these top hosts as case studies or examples to educate other hosts on best practices. This might include tips on property management, guest communication, and providing a superior guest experience."
      ],
      "metadata": {
        "id": "_WtzZ_hCYuh4"
      }
    },
    {
      "cell_type": "markdown",
      "source": [
        "#### Chart - 6 Number of reiews/price"
      ],
      "metadata": {
        "id": "OH-pJp9IphqM"
      }
    },
    {
      "cell_type": "code",
      "source": [
        "area = area_reviews['neighbourhood_group']\n",
        "review = area_reviews['number_of_reviews']\n",
        "fig = plt.figure(figsize =(10,5))\n",
        "\n",
        "plt.bar(area, review, color =\"blue\", width =0.5)\n",
        "plt.xlabel('Area')\n",
        "plt.ylabel('Review')\n",
        "plt.title(\"Number of Reviews in terms of area\")\n",
        "plt.show()"
      ],
      "metadata": {
        "id": "kuRf4wtuphqN"
      },
      "execution_count": null,
      "outputs": []
    },
    {
      "cell_type": "markdown",
      "source": [
        "##### 1. Why did you pick the specific chart?"
      ],
      "metadata": {
        "id": "bbFf2-_FphqN"
      }
    },
    {
      "cell_type": "markdown",
      "source": [
        "Comparative Analysis: Grouped or stacked bar plots allow for the comparison of sub-categories within each main category. This is useful for more detailed analysis where comparisons between different sub-groups are needed."
      ],
      "metadata": {
        "id": "loh7H2nzphqN"
      }
    },
    {
      "cell_type": "markdown",
      "source": [
        "##### 2. What is/are the insight(s) found from the chart?"
      ],
      "metadata": {
        "id": "_ouA3fa0phqN"
      }
    },
    {
      "cell_type": "markdown",
      "source": [
        "We can see that Manhattan got the highest number of reviews. Brooklyn & Queens get approximately equal number of reviews. Staten Island get the least review."
      ],
      "metadata": {
        "id": "VECbqPI7phqN"
      }
    },
    {
      "cell_type": "markdown",
      "source": [
        "##### 3. Will the gained insights help creating a positive business impact?\n",
        "Are there any insights that lead to negative growth? Justify with specific reason."
      ],
      "metadata": {
        "id": "Seke61FWphqN"
      }
    },
    {
      "cell_type": "markdown",
      "source": [
        "Host Education and Support:\n",
        "Host Training Programs: Offering training and support to hosts in Manhattan to maintain high standards, and providing additional resources to hosts in Brooklyn, Queens, and Staten Island to improve their listings and attract more reviews.\n",
        "Best Practices Sharing: Sharing best practices from highly reviewed listings in Manhattan with hosts in other boroughs to help them improve their performance."
      ],
      "metadata": {
        "id": "DW4_bGpfphqN"
      }
    },
    {
      "cell_type": "markdown",
      "source": [
        "#### Chart - 7 histogram for room types"
      ],
      "metadata": {
        "id": "PIIx-8_IphqN"
      }
    },
    {
      "cell_type": "code",
      "source": [
        "# Plotting histogram for room types to look for which are most preferred room types.\n",
        "plt.rcParams['figure.figsize'] = (10,5)\n",
        "hp = sns.histplot(df['room_type'], color= 'red')\n",
        "hp.set_xlabel('Room type')\n",
        "hp.set_ylabel('Number of listings')\n",
        "plt.show()"
      ],
      "metadata": {
        "id": "lqAIGUfyphqO"
      },
      "execution_count": null,
      "outputs": []
    },
    {
      "cell_type": "markdown",
      "source": [
        "##### 1. Why did you pick the specific chart?"
      ],
      "metadata": {
        "id": "t27r6nlMphqO"
      }
    },
    {
      "cell_type": "markdown",
      "source": [
        "Frequency Distribution:\n",
        "\n",
        "Histograms display the frequency distribution of a dataset, showing how often each range of values occurs. This is helpful for understanding the prevalence of certain values within the dataset."
      ],
      "metadata": {
        "id": "iv6ro40sphqO"
      }
    },
    {
      "cell_type": "markdown",
      "source": [
        "##### 2. What is/are the insight(s) found from the chart?"
      ],
      "metadata": {
        "id": "r2jJGEOYphqO"
      }
    },
    {
      "cell_type": "markdown",
      "source": [
        "The histogram plot reveals that the most preferred room types among Airbnb customers are entire homes/apartments and private rooms. Specifically:\n",
        "\n",
        "1. Entire Home/Apartment: This room type is the most popular, constituting 52% of the total listings. This indicates a strong preference for privacy and the convenience of having an entire place to oneself.\n",
        "\n",
        "2. Private Room: Following closely, private rooms make up 45.7% of the listings. This suggests that a significant number of travelers are looking for a balance between cost-effectiveness and privacy, opting for a private sleeping area while possibly sharing common spaces with the host or other guests."
      ],
      "metadata": {
        "id": "Po6ZPi4hphqO"
      }
    },
    {
      "cell_type": "markdown",
      "source": [
        "##### 3. Will the gained insights help creating a positive business impact?\n",
        "Are there any insights that lead to negative growth? Justify with specific reason."
      ],
      "metadata": {
        "id": "b0JNsNcRphqO"
      }
    },
    {
      "cell_type": "markdown",
      "source": [
        "Improved Customer Experience\n",
        "Optimized Search and Recommendations: By enhancing the search algorithms to prioritize entire homes/apartments and private rooms, Airbnb can provide a more personalized and relevant browsing experience. This can lead to higher conversion rates as customers find what they are looking for more easily.\n",
        "Detailed Listings: Encouraging hosts to provide comprehensive details, high-quality photos, and clear descriptions for these preferred room types can improve the attractiveness of the listings and result in better customer engagement and satisfaction."
      ],
      "metadata": {
        "id": "xvSq8iUTphqO"
      }
    },
    {
      "cell_type": "markdown",
      "source": [
        "#### Chart - 8 Percentage of neighbourhood"
      ],
      "metadata": {
        "id": "BZR9WyysphqO"
      }
    },
    {
      "cell_type": "code",
      "source": [
        "# Visualizing using pie chart\n",
        "df['neighbourhood_group'].value_counts().plot(kind = 'pie', figsize = (8,8), autopct = '%1.1f%%', fontsize = 15)\n",
        "plt.title(\"Neighbourhood Group\", fontsize = 25)\n",
        "plt.show()"
      ],
      "metadata": {
        "id": "TdPTWpAVphqO"
      },
      "execution_count": null,
      "outputs": []
    },
    {
      "cell_type": "markdown",
      "source": [
        "##### 1. Why did you pick the specific chart?"
      ],
      "metadata": {
        "id": "jj7wYXLtphqO"
      }
    },
    {
      "cell_type": "markdown",
      "source": [
        "Pie charts are a popular tool for visualizing data for several reasons:\n",
        "\n",
        "1. **Simplicity**: Pie charts are straightforward and easy to understand. They provide a clear visual representation of the parts of a whole, making it easy to compare proportions.\n",
        "\n",
        "2. **Quick Insights**: The visual nature of pie charts allows viewers to quickly grasp the relative sizes of different categories. This is useful for presentations and reports where you need to convey information efficiently.\n",
        "\n",
        "3. **Comparative Analysis**: Pie charts are particularly effective when you want to show the relationship of individual parts to the whole. For example, they can be used to illustrate market share distribution among companies or the percentage breakdown of a budget.\n",
        "\n",
        "4. **Visual Appeal**: When designed well, pie charts can be visually appealing and engaging. They can attract attention and make data more approachable, especially for audiences that might find raw numbers overwhelming.\n",
        "\n",
        "5. **Highlighting Key Data**: By emphasizing certain slices (using colors, exploding slices, etc.), pie charts can draw attention to key data points, making it easier to highlight important information.\n",
        "\n",
        "However, it's important to note that pie charts are not always the best choice for data visualization. They can become cluttered and hard to read with too many categories, and it's difficult to compare slices that are similar in size. In such cases, other types of charts like bar charts or histograms might be more effective."
      ],
      "metadata": {
        "id": "Ob8u6rCTphqO"
      }
    },
    {
      "cell_type": "markdown",
      "source": [
        "##### 2. What is/are the insight(s) found from the chart?"
      ],
      "metadata": {
        "id": "eZrbJ2SmphqO"
      }
    },
    {
      "cell_type": "markdown",
      "source": [
        "Based on the data analysis, it is evident that the majority of people renting through Airbnb prefer to rent entire homes or apartments, which constitutes 52% of the listings. This preference suggests that travelers highly value privacy and the convenience of having an entire place to themselves.\n",
        "\n",
        "Following this, 45.7% of the users opt for private rooms. This choice indicates that a significant portion of Airbnb customers is looking for a balance between affordability and privacy, as private rooms typically cost less than entire homes or apartments but still offer a private sleeping area.\n",
        "\n",
        "Lastly, shared rooms are the least considered room type, making up only a small fraction of the listings. This trend shows that most travelers prefer not to share common spaces with strangers, prioritizing more private accommodation options.\n",
        "\n",
        "These insights highlight the importance of offering a diverse range of accommodation types to meet varying customer preferences, with a clear emphasis on privacy and exclusivity."
      ],
      "metadata": {
        "id": "mZtgC_hjphqO"
      }
    },
    {
      "cell_type": "markdown",
      "source": [
        "##### 3. Will the gained insights help creating a positive business impact?\n",
        "Are there any insights that lead to negative growth? Justify with specific reason."
      ],
      "metadata": {
        "id": "rFu4xreNphqO"
      }
    },
    {
      "cell_type": "markdown",
      "source": [
        "Yes, the insights derived from the analysis can significantly help create a positive business impact for Airbnb in several ways:\n",
        "\n",
        "### Strategic Planning and Inventory Management:\n",
        "1. **Inventory Allocation**: Understanding that 52% of customers prefer entire homes or apartments allows Airbnb to encourage hosts to list more entire homes or apartments. This can help meet customer demand more effectively and improve booking rates.\n",
        "2. **Supply Optimization**: With 45.7% of customers opting for private rooms, Airbnb can focus on attracting more listings of private rooms, particularly in high-demand areas, ensuring that supply matches customer preferences.\n",
        "\n",
        "\n"
      ],
      "metadata": {
        "id": "ey_0qi68phqO"
      }
    },
    {
      "cell_type": "markdown",
      "source": [
        "## **5. Solution to Business Objective**"
      ],
      "metadata": {
        "id": "JcMwzZxoAimU"
      }
    },
    {
      "cell_type": "markdown",
      "source": [
        "#### What do you suggest the client to achieve Business Objective ?\n",
        "Explain Briefly."
      ],
      "metadata": {
        "id": "8G2x9gOozGDZ"
      }
    },
    {
      "cell_type": "markdown",
      "source": [
        "Based on the comprehensive analysis and insights derived from the Airbnb dataset, here are several business solutions that can be implemented to enhance Airbnb's operations, host performance, and customer satisfaction:\n",
        "\n",
        "### 1. **Targeted Marketing Strategies**\n",
        "\n",
        "#### Manhattan\n",
        "- **Luxury and Exclusivity Campaigns**: Promote listings as premium options offering entire homes/apartments, targeting affluent travelers seeking privacy and luxury.\n",
        "- **Corporate Stays Promotions**: Focus on attracting business travelers by highlighting the convenience and exclusivity of entire home/apartment listings in Manhattan.\n",
        "\n",
        "#### Brooklyn\n",
        "- **Community and Culture Focus**: Market Brooklyn listings by emphasizing the vibrant local culture and the communal experience of staying in private rooms. Target younger travelers, solo adventurers, and those seeking authentic local experiences.\n",
        "- **Extended Stay Offers**: Create promotional packages for long-term stays in private rooms, catering to digital nomads, students, and professionals looking for affordable, home-like accommodations.\n",
        "\n",
        "#### Queens and Bronx\n",
        "- **Affordable Travel Campaigns**: Highlight the affordability and unique local experiences in Queens and the Bronx. Promote private rooms as cost-effective alternatives for budget-conscious travelers.\n",
        "- **Local Experience Packages**: Offer packages that include local tours, experiences, and recommendations to attract travelers interested in exploring these areas more deeply.\n",
        "\n",
        "### 2. **Host Support and Development**\n",
        "\n",
        "- **Manhattan Hosts**: Provide resources and training for maintaining high standards of luxury and exclusivity. Encourage hosts to enhance their listings with premium amenities and services to attract high-paying guests.\n",
        "- **Brooklyn Hosts**: Support hosts with marketing strategies for private rooms, including tips on creating appealing and affordable listings. Offer workshops on leveraging Brooklyn’s cultural appeal to attract more guests.\n",
        "- **Queens and Bronx Hosts**: Guide hosts on how to market their listings effectively by emphasizing affordability and local charm. Provide tools for enhancing guest experience through personalized touches and local recommendations.\n",
        "\n",
        "### 3. **Enhanced User Experience**\n",
        "\n",
        "- **Customized Search Functionality**: Improve the search features on the platform to allow users to filter listings based on preferred room type, location, and price range. This will help guests find the most suitable accommodations quickly and efficiently.\n",
        "- **Personalized Recommendations**: Use machine learning algorithms to provide personalized accommodation recommendations based on user preferences, past behavior, and current trends.\n",
        "\n",
        "### 4. **Investment and Property Development**\n",
        "\n",
        "- **Strategic Investment Guidance**: Provide insights to potential investors and property developers about the demand trends for entire homes/apartments in Manhattan and private rooms in Brooklyn, Queens, and the Bronx. Guide them in making informed investment decisions.\n",
        "- **Development of New Properties**: Encourage the development of new properties in high-demand areas with a focus on the preferred room types. This can help meet the growing demand and expand the inventory of desirable listings.\n",
        "\n",
        "### 5. **Customer Service Enhancements**\n",
        "\n",
        "- **Improved Query Resolution**: Enhance customer service by reducing query resolution times and ensuring customer issues are resolved promptly. Implement a robust feedback mechanism to continuously improve service quality.\n",
        "- **Proactive Customer Support**: Offer proactive support to guests and hosts, addressing potential issues before they escalate. Provide training and incentives for customer service agents to ensure high levels of satisfaction.\n",
        "\n",
        "### 6. **Pricing Strategies**\n",
        "\n",
        "- **Dynamic Pricing Models**: Implement dynamic pricing strategies that adjust based on demand, seasonality, and competitive pricing. Use data analytics to optimize pricing for different room types and locations.\n",
        "- **Discounts and Promotions**: Offer targeted discounts and promotional offers to attract guests during low-demand periods. Provide special deals for long-term stays and repeat customers.\n",
        "\n",
        "### 7. **Loyalty Programs**\n",
        "\n",
        "- **Guest Loyalty Programs**: Develop loyalty programs for repeat guests, offering benefits such as discounts, priority bookings, and exclusive offers.\n",
        "- **Host Recognition and Rewards**: Recognize and reward hosts with high performance and excellent reviews. Provide incentives for maintaining high standards and delivering exceptional guest experiences.\n",
        "\n",
        "### 8. **Innovation and Additional Services**\n",
        "\n",
        "- **Innovative Offerings**: Introduce new and innovative services, such as curated local experiences, concierge services, and personalized travel itineraries.\n",
        "- **Additional Revenue Streams**: Explore additional revenue streams, such as offering travel insurance, local partnerships, and premium services for both guests and hosts.\n",
        "\n",
        "\n"
      ],
      "metadata": {
        "id": "pASKb0qOza21"
      }
    },
    {
      "cell_type": "markdown",
      "source": [
        "# **Conclusion**"
      ],
      "metadata": {
        "id": "gCX9965dhzqZ"
      }
    },
    {
      "cell_type": "markdown",
      "source": [
        "By implementing these business solutions, Airbnb can enhance its market presence, improve customer and host satisfaction, and drive overall growth. These strategies leverage the insights gained from data analysis to create targeted, effective, and innovative approaches that address the diverse needs of Airbnb’s users."
      ],
      "metadata": {
        "id": "Fjb1IsQkh3yE"
      }
    },
    {
      "cell_type": "markdown",
      "source": [
        "### ***Hurrah! You have successfully completed your EDA Capstone Project !!!***"
      ],
      "metadata": {
        "id": "gIfDvo9L0UH2"
      }
    }
  ]
}